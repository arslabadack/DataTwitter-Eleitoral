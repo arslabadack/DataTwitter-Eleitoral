{
  "nbformat": 4,
  "nbformat_minor": 0,
  "metadata": {
    "colab": {
      "name": "Etapa 02: Coleta dos Dados.ipynb",
      "provenance": []
    },
    "kernelspec": {
      "name": "python3",
      "display_name": "Python 3"
    },
    "language_info": {
      "name": "python"
    }
  },
  "cells": [
    {
      "cell_type": "markdown",
      "source": [
        "#Apresentação do projeto\n",
        "\n",
        "Proposta para construção de uma aplicação que realiza análise de sentimentos dos candidatos à presidência.\n",
        "\n"
      ],
      "metadata": {
        "id": "PGuU4wQiQEO7"
      }
    },
    {
      "cell_type": "markdown",
      "source": [
        "Instalação e importação das bibliotecas"
      ],
      "metadata": {
        "id": "12eFMr2jWoZ1"
      }
    },
    {
      "cell_type": "markdown",
      "source": [
        "Sobre a lib: https://github.com/JustAnotherArchivist/snscrape"
      ],
      "metadata": {
        "id": "ekv0tHfnYS2a"
      }
    },
    {
      "cell_type": "code",
      "source": [
        "pip install snscrape"
      ],
      "metadata": {
        "colab": {
          "base_uri": "https://localhost:8080/"
        },
        "id": "SqAJBhr6Wrzt",
        "outputId": "29e03a98-2673-4c44-a35d-dcbe9f141bd3"
      },
      "execution_count": null,
      "outputs": [
        {
          "output_type": "stream",
          "name": "stdout",
          "text": [
            "Looking in indexes: https://pypi.org/simple, https://us-python.pkg.dev/colab-wheels/public/simple/\n",
            "Collecting snscrape\n",
            "  Downloading snscrape-0.3.4-py3-none-any.whl (35 kB)\n",
            "Requirement already satisfied: beautifulsoup4 in /usr/local/lib/python3.7/dist-packages (from snscrape) (4.6.3)\n",
            "Requirement already satisfied: requests[socks] in /usr/local/lib/python3.7/dist-packages (from snscrape) (2.23.0)\n",
            "Requirement already satisfied: lxml in /usr/local/lib/python3.7/dist-packages (from snscrape) (4.2.6)\n",
            "Requirement already satisfied: chardet<4,>=3.0.2 in /usr/local/lib/python3.7/dist-packages (from requests[socks]->snscrape) (3.0.4)\n",
            "Requirement already satisfied: idna<3,>=2.5 in /usr/local/lib/python3.7/dist-packages (from requests[socks]->snscrape) (2.10)\n",
            "Requirement already satisfied: urllib3!=1.25.0,!=1.25.1,<1.26,>=1.21.1 in /usr/local/lib/python3.7/dist-packages (from requests[socks]->snscrape) (1.24.3)\n",
            "Requirement already satisfied: certifi>=2017.4.17 in /usr/local/lib/python3.7/dist-packages (from requests[socks]->snscrape) (2022.6.15)\n",
            "Requirement already satisfied: PySocks!=1.5.7,>=1.5.6 in /usr/local/lib/python3.7/dist-packages (from requests[socks]->snscrape) (1.7.1)\n",
            "Installing collected packages: snscrape\n",
            "Successfully installed snscrape-0.3.4\n"
          ]
        }
      ]
    },
    {
      "cell_type": "code",
      "source": [
        "import snscrape.modules.twitter as sntwitter\n",
        "\n",
        "#Manipulação de dados\n",
        "import pandas as pd"
      ],
      "metadata": {
        "id": "GYew8HNeWue7"
      },
      "execution_count": null,
      "outputs": []
    },
    {
      "cell_type": "code",
      "source": [
        "maximo_de_tweets = 50"
      ],
      "metadata": {
        "id": "ljs8mzu7XcGU"
      },
      "execution_count": null,
      "outputs": []
    },
    {
      "cell_type": "code",
      "source": [
        "lista_tweets_lula = []"
      ],
      "metadata": {
        "id": "bM_23Iw5YA-K"
      },
      "execution_count": null,
      "outputs": []
    },
    {
      "cell_type": "code",
      "source": [
        "for i, tweet in enumerate(sntwitter.TwitterSearchScraper(['lula']).get_items()):\n",
        "    if i > maximo_de_tweets:\n",
        "        break\n",
        "    lista_tweets_lula.append([tweet.date, tweet.id, tweet.content])"
      ],
      "metadata": {
        "id": "LqMG0uVHZPx9"
      },
      "execution_count": null,
      "outputs": []
    },
    {
      "cell_type": "markdown",
      "source": [
        "Lula"
      ],
      "metadata": {
        "id": "SraJNUJubLyJ"
      }
    },
    {
      "cell_type": "code",
      "source": [
        "lista_tweets_lula"
      ],
      "metadata": {
        "id": "6JuVt9dzayz5",
        "colab": {
          "base_uri": "https://localhost:8080/"
        },
        "outputId": "23b8d8cd-991f-4934-96bf-b46f88599312"
      },
      "execution_count": null,
      "outputs": [
        {
          "output_type": "execute_result",
          "data": {
            "text/plain": [
              "[[datetime.datetime(2022, 7, 30, 23, 22, 3, tzinfo=datetime.timezone.utc),\n",
              "  1553521334897999874,\n",
              "  '@LulaOficial A TODOS OS DEMOCRATAS: ASSINEM!!! Carta às brasileiras e aos brasileiros em defesa do Estado Democrático de Direito! https://t.co/GmGQrJ7koe'],\n",
              " [datetime.datetime(2022, 7, 30, 23, 22, 3, tzinfo=datetime.timezone.utc),\n",
              "  1553521332272480256,\n",
              "  '@angelobiazus1 @SilvioN34576400 @reinaldoazevedo Pô mané... Passa esse atestado não. \\nTivemos a Dilma e o Lula como representantes da esquerda. \\nEles mal conseguem ser coerentes no q falam, quanto mais no q escrevem.'],\n",
              " [datetime.datetime(2022, 7, 30, 23, 22, 3, tzinfo=datetime.timezone.utc),\n",
              "  1553521331417006080,\n",
              "  '@PaolaSDaniel TADINHA DA PAOLA, DODOIZINHA DA CABEÇA.\\n\\nLULA E MORO NO MESMO PALANQUE? KKKKKKKK'],\n",
              " [datetime.datetime(2022, 7, 30, 23, 22, 2, tzinfo=datetime.timezone.utc),\n",
              "  1553521329709645824,\n",
              "  '@LulaOficial Quando a petezada perceber, tu tá fu.'],\n",
              " [datetime.datetime(2022, 7, 30, 23, 22, 2, tzinfo=datetime.timezone.utc),\n",
              "  1553521328556101632,\n",
              "  '@JoaoMeiraNeto63 @reinaldoazevedo Bora saudar a mandioca e os meninos do lula que gostam de socializar celulares e apontar furadeiras para as vítimas'],\n",
              " [datetime.datetime(2022, 7, 30, 23, 22, 1, tzinfo=datetime.timezone.utc),\n",
              "  1553521325989314560,\n",
              "  'O @LulaOficial investiu parte do nosso dinheiro em Cuba e na Venezuela a outra roubou.'],\n",
              " [datetime.datetime(2022, 7, 30, 23, 22, 1, tzinfo=datetime.timezone.utc),\n",
              "  1553521323820949505,\n",
              "  '@LulaOficial Kkkkkk e eu quero que seu avião CAIA no mar e vc tenha o mesmo destino do Ulysses Guimarães..virou comida de TUBARÃO'],\n",
              " [datetime.datetime(2022, 7, 30, 23, 22, tzinfo=datetime.timezone.utc),\n",
              "  1553521321568600065,\n",
              "  '@LulaOficial @dilmabr O cara diz que fez 88% e nada de ÁGUA. Aí o outro vai e faz 5% e leva água pra população. É muita incompetência da PTralhada.'],\n",
              " [datetime.datetime(2022, 7, 30, 23, 21, 59, tzinfo=datetime.timezone.utc),\n",
              "  1553521315901997060,\n",
              "  '@Bozo22naCadeia @Nilsonhandebol @LulaOficial Seguindo.  🚩'],\n",
              " [datetime.datetime(2022, 7, 30, 23, 21, 58, tzinfo=datetime.timezone.utc),\n",
              "  1553521312554958849,\n",
              "  '@LulaOficial https://t.co/TFXeaN8L73'],\n",
              " [datetime.datetime(2022, 7, 30, 23, 21, 58, tzinfo=datetime.timezone.utc),\n",
              "  1553521311045017604,\n",
              "  '@ThiagoResiste É lula ladrão'],\n",
              " [datetime.datetime(2022, 7, 30, 23, 21, 56, tzinfo=datetime.timezone.utc),\n",
              "  1553521302002176000,\n",
              "  'Lula é um político relevante. Acho que a Sofia esqueceu disso. https://t.co/YG5LYBMqRA'],\n",
              " [datetime.datetime(2022, 7, 30, 23, 21, 55, tzinfo=datetime.timezone.utc),\n",
              "  1553521301440139271,\n",
              "  '@LulaOficial @ricardostuckert Eu amo o meu País.\\n❤️ Bolsonaro ❤️\\nGanha no primeiro turno 💕 https://t.co/9bypwi7ZMW'],\n",
              " [datetime.datetime(2022, 7, 30, 23, 21, 55, tzinfo=datetime.timezone.utc),\n",
              "  1553521300827668481,\n",
              "  '@duduzinho_10 @LulaOficial Somos a vergonha para os\\nCorruptos iguais aquele que vc apoia. Bolsonaro 22'],\n",
              " [datetime.datetime(2022, 7, 30, 23, 21, 55, tzinfo=datetime.timezone.utc),\n",
              "  1553521298856370176,\n",
              "  '@renancalheiros @lulando13 @LuciaAzev16 @LulaOficial Onde esconder dinheiro.\\nComo comprar deputado.\\nEspera...\\nCiro já sabe disso.'],\n",
              " [datetime.datetime(2022, 7, 30, 23, 21, 55, tzinfo=datetime.timezone.utc),\n",
              "  1553521298256666624,\n",
              "  '@LulaOficial https://t.co/QuKZnN6x3v'],\n",
              " [datetime.datetime(2022, 7, 30, 23, 21, 55, tzinfo=datetime.timezone.utc),\n",
              "  1553521297539350528,\n",
              "  '@renancalheiros @LulaOficial Renan e sua “ honestidade”! Cria vergonha na cara! 🐀 https://t.co/SqzVIHv5Ta'],\n",
              " [datetime.datetime(2022, 7, 30, 23, 21, 54, tzinfo=datetime.timezone.utc),\n",
              "  1553521293957378048,\n",
              "  'Foram centenas de milhares de assinaturas da Carta pela democracia, quando assinar vamos demostrar escrevendo a hastag abaixo:\\n\\n🚨 #AssineiCartaPelaDemocracia 🚨\\n https://t.co/gvxzpTlByi\\n\\n#VamosJuntasPeloBrasil \\n#LulaNoPrimeiroTurno\\n#REESTARIZAaELETROBRAS \\n@LulaOficial \\n@gleisi'],\n",
              " [datetime.datetime(2022, 7, 30, 23, 21, 53, tzinfo=datetime.timezone.utc),\n",
              "  1553521292569182211,\n",
              "  '@ChernobylKkk @Romzinha O que vc fez pro Lula te bloquear fi?'],\n",
              " [datetime.datetime(2022, 7, 30, 23, 21, 52, tzinfo=datetime.timezone.utc),\n",
              "  1553521287972134920,\n",
              "  '@LulaOficial @ricardostuckert https://t.co/PBqTTwYJH6'],\n",
              " [datetime.datetime(2022, 7, 30, 23, 21, 52, tzinfo=datetime.timezone.utc),\n",
              "  1553521285816373251,\n",
              "  '@viniciuscfp82 @reinaldoazevedo Famoso duas caras!!! O que fez ele mudar o discurso e passar a apoiar o Lula e seu bando?'],\n",
              " [datetime.datetime(2022, 7, 30, 23, 21, 51, tzinfo=datetime.timezone.utc),\n",
              "  1553521283282993155,\n",
              "  '@LulaOficial Sindicato só serve pra tirar dinheiro do trabalhador!!!'],\n",
              " [datetime.datetime(2022, 7, 30, 23, 21, 51, tzinfo=datetime.timezone.utc),\n",
              "  1553521281823293440,\n",
              "  '@LulaOficial Vira o disco, quem tá se iludindo aí é tu, tu sabe a verdade, todo mundo sabe da tua corja dentro por trás dos bastidores.'],\n",
              " [datetime.datetime(2022, 7, 30, 23, 21, 50, tzinfo=datetime.timezone.utc),\n",
              "  1553521277037694980,\n",
              "  '@CamiloSantanaCE @ricardostuckert @LulaOficial @elmanofreitaspt Mostra o vídeo tio'],\n",
              " [datetime.datetime(2022, 7, 30, 23, 21, 50, tzinfo=datetime.timezone.utc),\n",
              "  1553521276739796993,\n",
              "  '@folha Bolsonaro chama Lula de LADRAO'],\n",
              " [datetime.datetime(2022, 7, 30, 23, 21, 48, tzinfo=datetime.timezone.utc),\n",
              "  1553521271475929089,\n",
              "  '@renancalheiros @LulaOficial Vocês precisam roubar mais?!'],\n",
              " [datetime.datetime(2022, 7, 30, 23, 21, 47, tzinfo=datetime.timezone.utc),\n",
              "  1553521266098950144,\n",
              "  '@LulaOficial @dilmabr Tiveram 16 anos para isso porra.'],\n",
              " [datetime.datetime(2022, 7, 30, 23, 21, 47, tzinfo=datetime.timezone.utc),\n",
              "  1553521265692008455,\n",
              "  '@LulaOficial Luladrao seu lugar é na prisão'],\n",
              " [datetime.datetime(2022, 7, 30, 23, 21, 46, tzinfo=datetime.timezone.utc),\n",
              "  1553521263192248320,\n",
              "  '@marivalentimdf O que tem é que a enorme maioria que repudiava o Lula e o PT nas eleições municipais de 2016, na época do impeachment da Dilma e nas eleições de 2018, nessas eleições resolveu apoiá-lo.'],\n",
              " [datetime.datetime(2022, 7, 30, 23, 21, 46, tzinfo=datetime.timezone.utc),\n",
              "  1553521262441414657,\n",
              "  '@BolsonaroSP @Astro_Pontes @AragaoMosart Ah, mas o Lula não sai nas ruas.\\n\\n🎥 @ricardostuckert https://t.co/yREZ6iaDeK'],\n",
              " [datetime.datetime(2022, 7, 30, 23, 21, 46, tzinfo=datetime.timezone.utc),\n",
              "  1553521259836760082,\n",
              "  '@marcosbalbi1 Olha na boa, eu não vi nenhuma menção ao Lula e também nenhuma mentira, até quando os patriotas vão continuar apoiando a destruição do povo brasileiro, rindo de mortes, brincando com desmatamento tudo para chamar um homem ruim de alma de mito? Que patriotismo é este?'],\n",
              " [datetime.datetime(2022, 7, 30, 23, 21, 45, tzinfo=datetime.timezone.utc),\n",
              "  1553521258188476417,\n",
              "  '@marcofeliciano Todos somos comparça do Lula https://t.co/2wIVKsHmgt'],\n",
              " [datetime.datetime(2022, 7, 30, 23, 21, 45, tzinfo=datetime.timezone.utc),\n",
              "  1553521257970225152,\n",
              "  '@flferronato LULA PRESIDENTE https://t.co/m5YRnLlgAF'],\n",
              " [datetime.datetime(2022, 7, 30, 23, 21, 44, tzinfo=datetime.timezone.utc),\n",
              "  1553521252236607488,\n",
              "  '@SamuelFelix13PT @SpaceAllBR @CyberRebel3 @MKanvec @sequeira_kg @neloiav @MoraesPT13 @Alexand92840726 @prudentemarlene @lacerdaeh @AlexandrePT13CV @LulaOficial @EsquerdaSil @Simonycorredora @profrafic @BruckerMarcos @lolaescreva @hilde_angel @adrianasp63 @BallackSena @Casnasc01 @Dandarosa2021 @elaineazevedo75 @fefejunqueira @Gledsonferleite @JairSoa84995255 @Lairerosado1 @ManoJuOliveira1 @RenatoAntonini @SSkatelli @Andrea1Ortega @claudimarbr @DimitrievH @EndubsarA @francisconf1966 @jorge_pequeno @LuciaAlencar16 @mariste73771659 @NoraTeles @ProfessorLopes @rosepaixao_on @TurandotPathy @williambassane2 @Haddad_Fernando @heldersalomao @gleisi Lula é a nossa esperança de mudança! 🙌🏼🙌🏼👊🇻🇳🇻🇳🇻🇳#LulaEoPTReconstruirOBrasil'],\n",
              " [datetime.datetime(2022, 7, 30, 23, 21, 43, tzinfo=datetime.timezone.utc),\n",
              "  1553521251058126848,\n",
              "  '@LulaOficial @dilmabr #bolsonaromentiroso'],\n",
              " [datetime.datetime(2022, 7, 30, 23, 21, 43, tzinfo=datetime.timezone.utc),\n",
              "  1553521249950830598,\n",
              "  '@LulaOficial @ricardostuckert https://t.co/aPKcFGEAvt'],\n",
              " [datetime.datetime(2022, 7, 30, 23, 21, 43, tzinfo=datetime.timezone.utc),\n",
              "  1553521248344350721,\n",
              "  'Lula é o maior corrupto, ladrão,mentiroso e chefe de quadrilha do mundo !! Um verdadeiro marginal ligado ao narcotráfico do PCC.\\n2️⃣2️⃣Pátria Amada🇧🇷🇧🇷!! https://t.co/oyqKb7FQbd'],\n",
              " [datetime.datetime(2022, 7, 30, 23, 21, 41, tzinfo=datetime.timezone.utc),\n",
              "  1553521241386016768,\n",
              "  '@leandruuuuo @Ronebilton @LulaOficial 2 LADRÕES JUNTOS FEDE MUITO MAIS https://t.co/HU5qJv1FcL'],\n",
              " [datetime.datetime(2022, 7, 30, 23, 21, 41, tzinfo=datetime.timezone.utc),\n",
              "  1553521240689737728,\n",
              "  'Lula em Fortaleza  @LulaOficial  @elmanofreitaspt  @CamiloSantanaCE https://t.co/r9eWnwHxuC'],\n",
              " [datetime.datetime(2022, 7, 30, 23, 21, 41, tzinfo=datetime.timezone.utc),\n",
              "  1553521239062462464,\n",
              "  '@A_Ribeiro88 @anathaismatos @curicalooser Rlx, Arthur. O Lula vai voltar e nós brasileiros teremos uma vida digna'],\n",
              " [datetime.datetime(2022, 7, 30, 23, 21, 40, tzinfo=datetime.timezone.utc),\n",
              "  1553521238332563456,\n",
              "  '@LulaOficial Ladrão'],\n",
              " [datetime.datetime(2022, 7, 30, 23, 21, 39, tzinfo=datetime.timezone.utc),\n",
              "  1553521231789424640,\n",
              "  '@JoaoEnsina @ptbahia @ptbrasil @LulaOficial @Jeronimoba13 @ottoalencar @costa_rui @LuaSantis @VozProgressista @mariamarighella @JuniorGeraldo_ @jaqueswagner @AttuchLeonardo A felicidade está na sua cara @JoaoEnsina parabéns.'],\n",
              " [datetime.datetime(2022, 7, 30, 23, 21, 38, tzinfo=datetime.timezone.utc),\n",
              "  1553521227515453441,\n",
              "  '@DeputadoFederal @LulaOficial Eu amo o meu País.\\n❤️ Bolsonaro ❤️\\nGanha no primeiro turno 💕 https://t.co/9bypwi7ZMW'],\n",
              " [datetime.datetime(2022, 7, 30, 23, 21, 36, tzinfo=datetime.timezone.utc),\n",
              "  1553521218145472513,\n",
              "  '@jonatan13665601 @LulaOficial @ricardostuckert Os dois 🤮🤮'],\n",
              " [datetime.datetime(2022, 7, 30, 23, 21, 34, tzinfo=datetime.timezone.utc),\n",
              "  1553521210507632641,\n",
              "  '@LulaOficial @ricardostuckert Quem tem um vice desse não precisa de inimigo....😂🤣😂👌 https://t.co/DGrtuUgE74'],\n",
              " [datetime.datetime(2022, 7, 30, 23, 21, 33, tzinfo=datetime.timezone.utc),\n",
              "  1553521208209063936,\n",
              "  '@LulaOficial Ele vai visitar a terra dessa moça...Vejam q ela diz sobre o #LulaLadrão cara pau   ....#PTNuncaMais #CapitaoNoPrimeiroTurno https://t.co/79LzEfIWgg'],\n",
              " [datetime.datetime(2022, 7, 30, 23, 21, 32, tzinfo=datetime.timezone.utc),\n",
              "  1553521204560027648,\n",
              "  '\"Elites ficaram sem opções e terão que fechar com Lula\", diz Gustavo Conde https://t.co/vM4Qf4jzuo'],\n",
              " [datetime.datetime(2022, 7, 30, 23, 21, 32, tzinfo=datetime.timezone.utc),\n",
              "  1553521202706190336,\n",
              "  '@JoabePires1 @CarolDeToni Agora reparo meu erro ,não sou pt ,mas no primeiro turno voto lula'],\n",
              " [datetime.datetime(2022, 7, 30, 23, 21, 32, tzinfo=datetime.timezone.utc),\n",
              "  1553521201431154689,\n",
              "  'https://t.co/vThzRn95CD\\nLula, o véio do Rio'],\n",
              " [datetime.datetime(2022, 7, 30, 23, 21, 31, tzinfo=datetime.timezone.utc),\n",
              "  1553521200332251141,\n",
              "  '@LulaOficial https://t.co/TCN8KiagfZ'],\n",
              " [datetime.datetime(2022, 7, 30, 23, 21, 31, tzinfo=datetime.timezone.utc),\n",
              "  1553521197433987073,\n",
              "  '@renancalheiros @LulaOficial E aí @simonetebetbr ele não é do seu partido?']]"
            ]
          },
          "metadata": {},
          "execution_count": 6
        }
      ]
    },
    {
      "cell_type": "code",
      "source": [
        "dataframe_tweets_lula = pd.DataFrame(lista_tweets_lula, columns=['Data_Hora','idTweet','Tweet'])"
      ],
      "metadata": {
        "id": "XSdzcNHAa0Wz"
      },
      "execution_count": null,
      "outputs": []
    },
    {
      "cell_type": "code",
      "source": [
        "dataframe_tweets_lula.head()"
      ],
      "metadata": {
        "colab": {
          "base_uri": "https://localhost:8080/",
          "height": 337
        },
        "id": "vUNCN77EcRoJ",
        "outputId": "15e69f26-5b16-4dff-bebf-27af79594a56"
      },
      "execution_count": null,
      "outputs": [
        {
          "output_type": "execute_result",
          "data": {
            "text/plain": [
              "                  Data_Hora              idTweet  \\\n",
              "0 2022-07-30 23:22:03+00:00  1553521334897999874   \n",
              "1 2022-07-30 23:22:03+00:00  1553521332272480256   \n",
              "2 2022-07-30 23:22:03+00:00  1553521331417006080   \n",
              "3 2022-07-30 23:22:02+00:00  1553521329709645824   \n",
              "4 2022-07-30 23:22:02+00:00  1553521328556101632   \n",
              "\n",
              "                                               Tweet  \n",
              "0  @LulaOficial A TODOS OS DEMOCRATAS: ASSINEM!!!...  \n",
              "1  @angelobiazus1 @SilvioN34576400 @reinaldoazeve...  \n",
              "2  @PaolaSDaniel TADINHA DA PAOLA, DODOIZINHA DA ...  \n",
              "3  @LulaOficial Quando a petezada perceber, tu tá...  \n",
              "4  @JoaoMeiraNeto63 @reinaldoazevedo Bora saudar ...  "
            ],
            "text/html": [
              "\n",
              "  <div id=\"df-9dd68409-81c0-4baf-99f4-ad4bd862a62d\">\n",
              "    <div class=\"colab-df-container\">\n",
              "      <div>\n",
              "<style scoped>\n",
              "    .dataframe tbody tr th:only-of-type {\n",
              "        vertical-align: middle;\n",
              "    }\n",
              "\n",
              "    .dataframe tbody tr th {\n",
              "        vertical-align: top;\n",
              "    }\n",
              "\n",
              "    .dataframe thead th {\n",
              "        text-align: right;\n",
              "    }\n",
              "</style>\n",
              "<table border=\"1\" class=\"dataframe\">\n",
              "  <thead>\n",
              "    <tr style=\"text-align: right;\">\n",
              "      <th></th>\n",
              "      <th>Data_Hora</th>\n",
              "      <th>idTweet</th>\n",
              "      <th>Tweet</th>\n",
              "    </tr>\n",
              "  </thead>\n",
              "  <tbody>\n",
              "    <tr>\n",
              "      <th>0</th>\n",
              "      <td>2022-07-30 23:22:03+00:00</td>\n",
              "      <td>1553521334897999874</td>\n",
              "      <td>@LulaOficial A TODOS OS DEMOCRATAS: ASSINEM!!!...</td>\n",
              "    </tr>\n",
              "    <tr>\n",
              "      <th>1</th>\n",
              "      <td>2022-07-30 23:22:03+00:00</td>\n",
              "      <td>1553521332272480256</td>\n",
              "      <td>@angelobiazus1 @SilvioN34576400 @reinaldoazeve...</td>\n",
              "    </tr>\n",
              "    <tr>\n",
              "      <th>2</th>\n",
              "      <td>2022-07-30 23:22:03+00:00</td>\n",
              "      <td>1553521331417006080</td>\n",
              "      <td>@PaolaSDaniel TADINHA DA PAOLA, DODOIZINHA DA ...</td>\n",
              "    </tr>\n",
              "    <tr>\n",
              "      <th>3</th>\n",
              "      <td>2022-07-30 23:22:02+00:00</td>\n",
              "      <td>1553521329709645824</td>\n",
              "      <td>@LulaOficial Quando a petezada perceber, tu tá...</td>\n",
              "    </tr>\n",
              "    <tr>\n",
              "      <th>4</th>\n",
              "      <td>2022-07-30 23:22:02+00:00</td>\n",
              "      <td>1553521328556101632</td>\n",
              "      <td>@JoaoMeiraNeto63 @reinaldoazevedo Bora saudar ...</td>\n",
              "    </tr>\n",
              "  </tbody>\n",
              "</table>\n",
              "</div>\n",
              "      <button class=\"colab-df-convert\" onclick=\"convertToInteractive('df-9dd68409-81c0-4baf-99f4-ad4bd862a62d')\"\n",
              "              title=\"Convert this dataframe to an interactive table.\"\n",
              "              style=\"display:none;\">\n",
              "        \n",
              "  <svg xmlns=\"http://www.w3.org/2000/svg\" height=\"24px\"viewBox=\"0 0 24 24\"\n",
              "       width=\"24px\">\n",
              "    <path d=\"M0 0h24v24H0V0z\" fill=\"none\"/>\n",
              "    <path d=\"M18.56 5.44l.94 2.06.94-2.06 2.06-.94-2.06-.94-.94-2.06-.94 2.06-2.06.94zm-11 1L8.5 8.5l.94-2.06 2.06-.94-2.06-.94L8.5 2.5l-.94 2.06-2.06.94zm10 10l.94 2.06.94-2.06 2.06-.94-2.06-.94-.94-2.06-.94 2.06-2.06.94z\"/><path d=\"M17.41 7.96l-1.37-1.37c-.4-.4-.92-.59-1.43-.59-.52 0-1.04.2-1.43.59L10.3 9.45l-7.72 7.72c-.78.78-.78 2.05 0 2.83L4 21.41c.39.39.9.59 1.41.59.51 0 1.02-.2 1.41-.59l7.78-7.78 2.81-2.81c.8-.78.8-2.07 0-2.86zM5.41 20L4 18.59l7.72-7.72 1.47 1.35L5.41 20z\"/>\n",
              "  </svg>\n",
              "      </button>\n",
              "      \n",
              "  <style>\n",
              "    .colab-df-container {\n",
              "      display:flex;\n",
              "      flex-wrap:wrap;\n",
              "      gap: 12px;\n",
              "    }\n",
              "\n",
              "    .colab-df-convert {\n",
              "      background-color: #E8F0FE;\n",
              "      border: none;\n",
              "      border-radius: 50%;\n",
              "      cursor: pointer;\n",
              "      display: none;\n",
              "      fill: #1967D2;\n",
              "      height: 32px;\n",
              "      padding: 0 0 0 0;\n",
              "      width: 32px;\n",
              "    }\n",
              "\n",
              "    .colab-df-convert:hover {\n",
              "      background-color: #E2EBFA;\n",
              "      box-shadow: 0px 1px 2px rgba(60, 64, 67, 0.3), 0px 1px 3px 1px rgba(60, 64, 67, 0.15);\n",
              "      fill: #174EA6;\n",
              "    }\n",
              "\n",
              "    [theme=dark] .colab-df-convert {\n",
              "      background-color: #3B4455;\n",
              "      fill: #D2E3FC;\n",
              "    }\n",
              "\n",
              "    [theme=dark] .colab-df-convert:hover {\n",
              "      background-color: #434B5C;\n",
              "      box-shadow: 0px 1px 3px 1px rgba(0, 0, 0, 0.15);\n",
              "      filter: drop-shadow(0px 1px 2px rgba(0, 0, 0, 0.3));\n",
              "      fill: #FFFFFF;\n",
              "    }\n",
              "  </style>\n",
              "\n",
              "      <script>\n",
              "        const buttonEl =\n",
              "          document.querySelector('#df-9dd68409-81c0-4baf-99f4-ad4bd862a62d button.colab-df-convert');\n",
              "        buttonEl.style.display =\n",
              "          google.colab.kernel.accessAllowed ? 'block' : 'none';\n",
              "\n",
              "        async function convertToInteractive(key) {\n",
              "          const element = document.querySelector('#df-9dd68409-81c0-4baf-99f4-ad4bd862a62d');\n",
              "          const dataTable =\n",
              "            await google.colab.kernel.invokeFunction('convertToInteractive',\n",
              "                                                     [key], {});\n",
              "          if (!dataTable) return;\n",
              "\n",
              "          const docLinkHtml = 'Like what you see? Visit the ' +\n",
              "            '<a target=\"_blank\" href=https://colab.research.google.com/notebooks/data_table.ipynb>data table notebook</a>'\n",
              "            + ' to learn more about interactive tables.';\n",
              "          element.innerHTML = '';\n",
              "          dataTable['output_type'] = 'display_data';\n",
              "          await google.colab.output.renderOutput(dataTable, element);\n",
              "          const docLink = document.createElement('div');\n",
              "          docLink.innerHTML = docLinkHtml;\n",
              "          element.appendChild(docLink);\n",
              "        }\n",
              "      </script>\n",
              "    </div>\n",
              "  </div>\n",
              "  "
            ]
          },
          "metadata": {},
          "execution_count": 8
        }
      ]
    },
    {
      "cell_type": "code",
      "source": [
        "dataframe_tweets_lula['Candidato'] = 'Lula'"
      ],
      "metadata": {
        "id": "ozFnhWtudzXD"
      },
      "execution_count": null,
      "outputs": []
    },
    {
      "cell_type": "markdown",
      "source": [
        "Bolsonaro"
      ],
      "metadata": {
        "id": "CuMweJpLeTdk"
      }
    },
    {
      "cell_type": "code",
      "source": [
        "lista_tweets_bolsonaro = []"
      ],
      "metadata": {
        "id": "gn16ao-9ePZ4"
      },
      "execution_count": null,
      "outputs": []
    },
    {
      "cell_type": "code",
      "source": [
        "for i, tweet in enumerate(sntwitter.TwitterSearchScraper(['bolsonaro']).get_items()):\n",
        "    if i > maximo_de_tweets:\n",
        "        break\n",
        "    lista_tweets_bolsonaro.append([tweet.date, tweet.id, tweet.content])"
      ],
      "metadata": {
        "id": "L4k7dI2_eRwn"
      },
      "execution_count": null,
      "outputs": []
    },
    {
      "cell_type": "code",
      "source": [
        "dataframe_tweets_bolsonaro = pd.DataFrame(lista_tweets_bolsonaro, columns=['Data_Hora','idTweet','Tweet'])"
      ],
      "metadata": {
        "id": "_dg-GGBLeipz"
      },
      "execution_count": null,
      "outputs": []
    },
    {
      "cell_type": "code",
      "source": [
        "dataframe_tweets_bolsonaro.head()"
      ],
      "metadata": {
        "colab": {
          "base_uri": "https://localhost:8080/",
          "height": 337
        },
        "id": "Xols-ta5eocO",
        "outputId": "c1161324-85c7-432e-c5d6-f0e79aa99d0d"
      },
      "execution_count": null,
      "outputs": [
        {
          "output_type": "execute_result",
          "data": {
            "text/plain": [
              "                  Data_Hora              idTweet  \\\n",
              "0 2022-07-30 23:22:07+00:00  1553521347812376576   \n",
              "1 2022-07-30 23:22:06+00:00  1553521345828474880   \n",
              "2 2022-07-30 23:22:06+00:00  1553521345048313859   \n",
              "3 2022-07-30 23:22:05+00:00  1553521339994079232   \n",
              "4 2022-07-30 23:22:03+00:00  1553521335153954817   \n",
              "\n",
              "                                               Tweet  \n",
              "0  @marciopaulopin6 Eu amo o meu País.\\n❤️ Bolson...  \n",
              "1  Mortes violentas  de crianças e adolescentes c...  \n",
              "2  Imagine se a frase fosse dita pelo Bolsonaro… ...  \n",
              "3            amo ver o bolsonaro e o lula no twitter  \n",
              "4  @keynes_de @sergioba1234 @BexigaGuilherme @Lim...  "
            ],
            "text/html": [
              "\n",
              "  <div id=\"df-8e4dddf1-a214-4e54-8410-fb370581d438\">\n",
              "    <div class=\"colab-df-container\">\n",
              "      <div>\n",
              "<style scoped>\n",
              "    .dataframe tbody tr th:only-of-type {\n",
              "        vertical-align: middle;\n",
              "    }\n",
              "\n",
              "    .dataframe tbody tr th {\n",
              "        vertical-align: top;\n",
              "    }\n",
              "\n",
              "    .dataframe thead th {\n",
              "        text-align: right;\n",
              "    }\n",
              "</style>\n",
              "<table border=\"1\" class=\"dataframe\">\n",
              "  <thead>\n",
              "    <tr style=\"text-align: right;\">\n",
              "      <th></th>\n",
              "      <th>Data_Hora</th>\n",
              "      <th>idTweet</th>\n",
              "      <th>Tweet</th>\n",
              "    </tr>\n",
              "  </thead>\n",
              "  <tbody>\n",
              "    <tr>\n",
              "      <th>0</th>\n",
              "      <td>2022-07-30 23:22:07+00:00</td>\n",
              "      <td>1553521347812376576</td>\n",
              "      <td>@marciopaulopin6 Eu amo o meu País.\\n❤️ Bolson...</td>\n",
              "    </tr>\n",
              "    <tr>\n",
              "      <th>1</th>\n",
              "      <td>2022-07-30 23:22:06+00:00</td>\n",
              "      <td>1553521345828474880</td>\n",
              "      <td>Mortes violentas  de crianças e adolescentes c...</td>\n",
              "    </tr>\n",
              "    <tr>\n",
              "      <th>2</th>\n",
              "      <td>2022-07-30 23:22:06+00:00</td>\n",
              "      <td>1553521345048313859</td>\n",
              "      <td>Imagine se a frase fosse dita pelo Bolsonaro… ...</td>\n",
              "    </tr>\n",
              "    <tr>\n",
              "      <th>3</th>\n",
              "      <td>2022-07-30 23:22:05+00:00</td>\n",
              "      <td>1553521339994079232</td>\n",
              "      <td>amo ver o bolsonaro e o lula no twitter</td>\n",
              "    </tr>\n",
              "    <tr>\n",
              "      <th>4</th>\n",
              "      <td>2022-07-30 23:22:03+00:00</td>\n",
              "      <td>1553521335153954817</td>\n",
              "      <td>@keynes_de @sergioba1234 @BexigaGuilherme @Lim...</td>\n",
              "    </tr>\n",
              "  </tbody>\n",
              "</table>\n",
              "</div>\n",
              "      <button class=\"colab-df-convert\" onclick=\"convertToInteractive('df-8e4dddf1-a214-4e54-8410-fb370581d438')\"\n",
              "              title=\"Convert this dataframe to an interactive table.\"\n",
              "              style=\"display:none;\">\n",
              "        \n",
              "  <svg xmlns=\"http://www.w3.org/2000/svg\" height=\"24px\"viewBox=\"0 0 24 24\"\n",
              "       width=\"24px\">\n",
              "    <path d=\"M0 0h24v24H0V0z\" fill=\"none\"/>\n",
              "    <path d=\"M18.56 5.44l.94 2.06.94-2.06 2.06-.94-2.06-.94-.94-2.06-.94 2.06-2.06.94zm-11 1L8.5 8.5l.94-2.06 2.06-.94-2.06-.94L8.5 2.5l-.94 2.06-2.06.94zm10 10l.94 2.06.94-2.06 2.06-.94-2.06-.94-.94-2.06-.94 2.06-2.06.94z\"/><path d=\"M17.41 7.96l-1.37-1.37c-.4-.4-.92-.59-1.43-.59-.52 0-1.04.2-1.43.59L10.3 9.45l-7.72 7.72c-.78.78-.78 2.05 0 2.83L4 21.41c.39.39.9.59 1.41.59.51 0 1.02-.2 1.41-.59l7.78-7.78 2.81-2.81c.8-.78.8-2.07 0-2.86zM5.41 20L4 18.59l7.72-7.72 1.47 1.35L5.41 20z\"/>\n",
              "  </svg>\n",
              "      </button>\n",
              "      \n",
              "  <style>\n",
              "    .colab-df-container {\n",
              "      display:flex;\n",
              "      flex-wrap:wrap;\n",
              "      gap: 12px;\n",
              "    }\n",
              "\n",
              "    .colab-df-convert {\n",
              "      background-color: #E8F0FE;\n",
              "      border: none;\n",
              "      border-radius: 50%;\n",
              "      cursor: pointer;\n",
              "      display: none;\n",
              "      fill: #1967D2;\n",
              "      height: 32px;\n",
              "      padding: 0 0 0 0;\n",
              "      width: 32px;\n",
              "    }\n",
              "\n",
              "    .colab-df-convert:hover {\n",
              "      background-color: #E2EBFA;\n",
              "      box-shadow: 0px 1px 2px rgba(60, 64, 67, 0.3), 0px 1px 3px 1px rgba(60, 64, 67, 0.15);\n",
              "      fill: #174EA6;\n",
              "    }\n",
              "\n",
              "    [theme=dark] .colab-df-convert {\n",
              "      background-color: #3B4455;\n",
              "      fill: #D2E3FC;\n",
              "    }\n",
              "\n",
              "    [theme=dark] .colab-df-convert:hover {\n",
              "      background-color: #434B5C;\n",
              "      box-shadow: 0px 1px 3px 1px rgba(0, 0, 0, 0.15);\n",
              "      filter: drop-shadow(0px 1px 2px rgba(0, 0, 0, 0.3));\n",
              "      fill: #FFFFFF;\n",
              "    }\n",
              "  </style>\n",
              "\n",
              "      <script>\n",
              "        const buttonEl =\n",
              "          document.querySelector('#df-8e4dddf1-a214-4e54-8410-fb370581d438 button.colab-df-convert');\n",
              "        buttonEl.style.display =\n",
              "          google.colab.kernel.accessAllowed ? 'block' : 'none';\n",
              "\n",
              "        async function convertToInteractive(key) {\n",
              "          const element = document.querySelector('#df-8e4dddf1-a214-4e54-8410-fb370581d438');\n",
              "          const dataTable =\n",
              "            await google.colab.kernel.invokeFunction('convertToInteractive',\n",
              "                                                     [key], {});\n",
              "          if (!dataTable) return;\n",
              "\n",
              "          const docLinkHtml = 'Like what you see? Visit the ' +\n",
              "            '<a target=\"_blank\" href=https://colab.research.google.com/notebooks/data_table.ipynb>data table notebook</a>'\n",
              "            + ' to learn more about interactive tables.';\n",
              "          element.innerHTML = '';\n",
              "          dataTable['output_type'] = 'display_data';\n",
              "          await google.colab.output.renderOutput(dataTable, element);\n",
              "          const docLink = document.createElement('div');\n",
              "          docLink.innerHTML = docLinkHtml;\n",
              "          element.appendChild(docLink);\n",
              "        }\n",
              "      </script>\n",
              "    </div>\n",
              "  </div>\n",
              "  "
            ]
          },
          "metadata": {},
          "execution_count": 13
        }
      ]
    },
    {
      "cell_type": "code",
      "source": [
        "dataframe_tweets_bolsonaro['Candidato'] = 'Bolsonaro'"
      ],
      "metadata": {
        "id": "Y4sRGQWcexdh"
      },
      "execution_count": null,
      "outputs": []
    },
    {
      "cell_type": "markdown",
      "source": [
        "Ciro"
      ],
      "metadata": {
        "id": "n09eDln6e9nc"
      }
    },
    {
      "cell_type": "code",
      "source": [
        "lista_tweets_ciro = []"
      ],
      "metadata": {
        "id": "qtjThhGbe03D"
      },
      "execution_count": null,
      "outputs": []
    },
    {
      "cell_type": "code",
      "source": [
        "for i, tweet in enumerate(sntwitter.TwitterSearchScraper(['ciro']).get_items()):\n",
        "    if i > maximo_de_tweets:\n",
        "        break\n",
        "    lista_tweets_ciro.append([tweet.date, tweet.id, tweet.content])"
      ],
      "metadata": {
        "id": "7y9FNp4wfB71"
      },
      "execution_count": null,
      "outputs": []
    },
    {
      "cell_type": "code",
      "source": [
        "dataframe_tweets_ciro = pd.DataFrame(lista_tweets_ciro, columns=['Data_Hora','idTweet','Tweet'])"
      ],
      "metadata": {
        "id": "DWAAZ96UfGxX"
      },
      "execution_count": null,
      "outputs": []
    },
    {
      "cell_type": "code",
      "source": [
        "dataframe_tweets_ciro.head()"
      ],
      "metadata": {
        "colab": {
          "base_uri": "https://localhost:8080/",
          "height": 337
        },
        "id": "feTrq9a6fKjL",
        "outputId": "5ea641e1-e1c0-4c79-9292-9292099b5830"
      },
      "execution_count": null,
      "outputs": [
        {
          "output_type": "execute_result",
          "data": {
            "text/plain": [
              "                  Data_Hora              idTweet  \\\n",
              "0 2022-07-30 23:22:04+00:00  1553521335787261953   \n",
              "1 2022-07-30 23:22:03+00:00  1553521335153954817   \n",
              "2 2022-07-30 23:21:55+00:00  1553521298856370176   \n",
              "3 2022-07-30 23:21:53+00:00  1553521292900548608   \n",
              "4 2022-07-30 23:21:49+00:00  1553521273367662595   \n",
              "\n",
              "                                               Tweet  \n",
              "0  @de_mansu Pois é, pessoal viaja, pensa que tod...  \n",
              "1  @keynes_de @sergioba1234 @BexigaGuilherme @Lim...  \n",
              "2  @renancalheiros @lulando13 @LuciaAzev16 @LulaO...  \n",
              "3  Ciro Nogueira é vaiado em convenção do PDT no ...  \n",
              "4  https://t.co/KoMUKwEcM2\\n\\nMarcos Rogério (PL-...  "
            ],
            "text/html": [
              "\n",
              "  <div id=\"df-a26c3645-01a8-4d83-8d9f-0f7334c262c1\">\n",
              "    <div class=\"colab-df-container\">\n",
              "      <div>\n",
              "<style scoped>\n",
              "    .dataframe tbody tr th:only-of-type {\n",
              "        vertical-align: middle;\n",
              "    }\n",
              "\n",
              "    .dataframe tbody tr th {\n",
              "        vertical-align: top;\n",
              "    }\n",
              "\n",
              "    .dataframe thead th {\n",
              "        text-align: right;\n",
              "    }\n",
              "</style>\n",
              "<table border=\"1\" class=\"dataframe\">\n",
              "  <thead>\n",
              "    <tr style=\"text-align: right;\">\n",
              "      <th></th>\n",
              "      <th>Data_Hora</th>\n",
              "      <th>idTweet</th>\n",
              "      <th>Tweet</th>\n",
              "    </tr>\n",
              "  </thead>\n",
              "  <tbody>\n",
              "    <tr>\n",
              "      <th>0</th>\n",
              "      <td>2022-07-30 23:22:04+00:00</td>\n",
              "      <td>1553521335787261953</td>\n",
              "      <td>@de_mansu Pois é, pessoal viaja, pensa que tod...</td>\n",
              "    </tr>\n",
              "    <tr>\n",
              "      <th>1</th>\n",
              "      <td>2022-07-30 23:22:03+00:00</td>\n",
              "      <td>1553521335153954817</td>\n",
              "      <td>@keynes_de @sergioba1234 @BexigaGuilherme @Lim...</td>\n",
              "    </tr>\n",
              "    <tr>\n",
              "      <th>2</th>\n",
              "      <td>2022-07-30 23:21:55+00:00</td>\n",
              "      <td>1553521298856370176</td>\n",
              "      <td>@renancalheiros @lulando13 @LuciaAzev16 @LulaO...</td>\n",
              "    </tr>\n",
              "    <tr>\n",
              "      <th>3</th>\n",
              "      <td>2022-07-30 23:21:53+00:00</td>\n",
              "      <td>1553521292900548608</td>\n",
              "      <td>Ciro Nogueira é vaiado em convenção do PDT no ...</td>\n",
              "    </tr>\n",
              "    <tr>\n",
              "      <th>4</th>\n",
              "      <td>2022-07-30 23:21:49+00:00</td>\n",
              "      <td>1553521273367662595</td>\n",
              "      <td>https://t.co/KoMUKwEcM2\\n\\nMarcos Rogério (PL-...</td>\n",
              "    </tr>\n",
              "  </tbody>\n",
              "</table>\n",
              "</div>\n",
              "      <button class=\"colab-df-convert\" onclick=\"convertToInteractive('df-a26c3645-01a8-4d83-8d9f-0f7334c262c1')\"\n",
              "              title=\"Convert this dataframe to an interactive table.\"\n",
              "              style=\"display:none;\">\n",
              "        \n",
              "  <svg xmlns=\"http://www.w3.org/2000/svg\" height=\"24px\"viewBox=\"0 0 24 24\"\n",
              "       width=\"24px\">\n",
              "    <path d=\"M0 0h24v24H0V0z\" fill=\"none\"/>\n",
              "    <path d=\"M18.56 5.44l.94 2.06.94-2.06 2.06-.94-2.06-.94-.94-2.06-.94 2.06-2.06.94zm-11 1L8.5 8.5l.94-2.06 2.06-.94-2.06-.94L8.5 2.5l-.94 2.06-2.06.94zm10 10l.94 2.06.94-2.06 2.06-.94-2.06-.94-.94-2.06-.94 2.06-2.06.94z\"/><path d=\"M17.41 7.96l-1.37-1.37c-.4-.4-.92-.59-1.43-.59-.52 0-1.04.2-1.43.59L10.3 9.45l-7.72 7.72c-.78.78-.78 2.05 0 2.83L4 21.41c.39.39.9.59 1.41.59.51 0 1.02-.2 1.41-.59l7.78-7.78 2.81-2.81c.8-.78.8-2.07 0-2.86zM5.41 20L4 18.59l7.72-7.72 1.47 1.35L5.41 20z\"/>\n",
              "  </svg>\n",
              "      </button>\n",
              "      \n",
              "  <style>\n",
              "    .colab-df-container {\n",
              "      display:flex;\n",
              "      flex-wrap:wrap;\n",
              "      gap: 12px;\n",
              "    }\n",
              "\n",
              "    .colab-df-convert {\n",
              "      background-color: #E8F0FE;\n",
              "      border: none;\n",
              "      border-radius: 50%;\n",
              "      cursor: pointer;\n",
              "      display: none;\n",
              "      fill: #1967D2;\n",
              "      height: 32px;\n",
              "      padding: 0 0 0 0;\n",
              "      width: 32px;\n",
              "    }\n",
              "\n",
              "    .colab-df-convert:hover {\n",
              "      background-color: #E2EBFA;\n",
              "      box-shadow: 0px 1px 2px rgba(60, 64, 67, 0.3), 0px 1px 3px 1px rgba(60, 64, 67, 0.15);\n",
              "      fill: #174EA6;\n",
              "    }\n",
              "\n",
              "    [theme=dark] .colab-df-convert {\n",
              "      background-color: #3B4455;\n",
              "      fill: #D2E3FC;\n",
              "    }\n",
              "\n",
              "    [theme=dark] .colab-df-convert:hover {\n",
              "      background-color: #434B5C;\n",
              "      box-shadow: 0px 1px 3px 1px rgba(0, 0, 0, 0.15);\n",
              "      filter: drop-shadow(0px 1px 2px rgba(0, 0, 0, 0.3));\n",
              "      fill: #FFFFFF;\n",
              "    }\n",
              "  </style>\n",
              "\n",
              "      <script>\n",
              "        const buttonEl =\n",
              "          document.querySelector('#df-a26c3645-01a8-4d83-8d9f-0f7334c262c1 button.colab-df-convert');\n",
              "        buttonEl.style.display =\n",
              "          google.colab.kernel.accessAllowed ? 'block' : 'none';\n",
              "\n",
              "        async function convertToInteractive(key) {\n",
              "          const element = document.querySelector('#df-a26c3645-01a8-4d83-8d9f-0f7334c262c1');\n",
              "          const dataTable =\n",
              "            await google.colab.kernel.invokeFunction('convertToInteractive',\n",
              "                                                     [key], {});\n",
              "          if (!dataTable) return;\n",
              "\n",
              "          const docLinkHtml = 'Like what you see? Visit the ' +\n",
              "            '<a target=\"_blank\" href=https://colab.research.google.com/notebooks/data_table.ipynb>data table notebook</a>'\n",
              "            + ' to learn more about interactive tables.';\n",
              "          element.innerHTML = '';\n",
              "          dataTable['output_type'] = 'display_data';\n",
              "          await google.colab.output.renderOutput(dataTable, element);\n",
              "          const docLink = document.createElement('div');\n",
              "          docLink.innerHTML = docLinkHtml;\n",
              "          element.appendChild(docLink);\n",
              "        }\n",
              "      </script>\n",
              "    </div>\n",
              "  </div>\n",
              "  "
            ]
          },
          "metadata": {},
          "execution_count": 18
        }
      ]
    },
    {
      "cell_type": "code",
      "source": [
        "dataframe_tweets_ciro['Candidato'] = 'Ciro'"
      ],
      "metadata": {
        "id": "89Z5JrT8fWfL"
      },
      "execution_count": null,
      "outputs": []
    },
    {
      "cell_type": "code",
      "source": [
        "dataframe_final = pd.concat([dataframe_tweets_lula, dataframe_tweets_bolsonaro, dataframe_tweets_ciro], axis = 0)"
      ],
      "metadata": {
        "id": "Gvmml3xAfZot"
      },
      "execution_count": null,
      "outputs": []
    },
    {
      "cell_type": "code",
      "source": [
        "dataframe_final['Candidato'].unique()"
      ],
      "metadata": {
        "colab": {
          "base_uri": "https://localhost:8080/"
        },
        "id": "LxkDmffxfkL2",
        "outputId": "91de1144-9a52-4ac8-a207-f6795f50bd48"
      },
      "execution_count": null,
      "outputs": [
        {
          "output_type": "execute_result",
          "data": {
            "text/plain": [
              "array(['Lula', 'Bolsonaro', 'Ciro'], dtype=object)"
            ]
          },
          "metadata": {},
          "execution_count": 21
        }
      ]
    },
    {
      "cell_type": "code",
      "source": [
        "dataframe_final.to_csv('dataframe_final_candidatos.csv', sep=',', index=False)"
      ],
      "metadata": {
        "id": "FVTX4pMUfxEl"
      },
      "execution_count": null,
      "outputs": []
    },
    {
      "cell_type": "code",
      "source": [
        ""
      ],
      "metadata": {
        "id": "-nmSeoeZgVBC"
      },
      "execution_count": null,
      "outputs": []
    }
  ]
}
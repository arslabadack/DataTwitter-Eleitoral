{
  "nbformat": 4,
  "nbformat_minor": 0,
  "metadata": {
    "colab": {
      "name": "Etapa 03: EDA, Storytelling e Visualização.ipynb",
      "provenance": []
    },
    "kernelspec": {
      "name": "python3",
      "display_name": "Python 3"
    },
    "language_info": {
      "name": "python"
    }
  },
  "cells": [
    {
      "cell_type": "markdown",
      "source": [
        "##Etapa 3 - EDA, Storytelling e Visualização"
      ],
      "metadata": {
        "id": "pFLCIculhtdN"
      }
    },
    {
      "cell_type": "code",
      "source": [
        "import pandas as pd\n",
        "import re"
      ],
      "metadata": {
        "id": "7NAgvk0EhyoH"
      },
      "execution_count": null,
      "outputs": []
    },
    {
      "cell_type": "code",
      "source": [
        "dataframe_final_candidatos = pd.read_csv(\"dataframe_final_candidatos.csv\")"
      ],
      "metadata": {
        "id": "bnzwdWESiLME"
      },
      "execution_count": null,
      "outputs": []
    },
    {
      "cell_type": "code",
      "source": [
        "dataframe_final_candidatos.info()"
      ],
      "metadata": {
        "colab": {
          "base_uri": "https://localhost:8080/"
        },
        "id": "CLZuMytyiUTi",
        "outputId": "16ddab5f-4523-4ebb-978a-61f364982be2"
      },
      "execution_count": null,
      "outputs": [
        {
          "output_type": "stream",
          "name": "stdout",
          "text": [
            "<class 'pandas.core.frame.DataFrame'>\n",
            "RangeIndex: 153 entries, 0 to 152\n",
            "Data columns (total 4 columns):\n",
            " #   Column     Non-Null Count  Dtype \n",
            "---  ------     --------------  ----- \n",
            " 0   Data_Hora  153 non-null    object\n",
            " 1   idTweet    153 non-null    int64 \n",
            " 2   Tweet      153 non-null    object\n",
            " 3   Candidato  153 non-null    object\n",
            "dtypes: int64(1), object(3)\n",
            "memory usage: 4.9+ KB\n"
          ]
        }
      ]
    },
    {
      "cell_type": "code",
      "source": [
        "dataframe_final_candidatos.isnull().sum()"
      ],
      "metadata": {
        "colab": {
          "base_uri": "https://localhost:8080/"
        },
        "id": "PWwJynssiYA5",
        "outputId": "830afcb0-c5c1-4499-df44-eefd780337d6"
      },
      "execution_count": null,
      "outputs": [
        {
          "output_type": "execute_result",
          "data": {
            "text/plain": [
              "Data_Hora    0\n",
              "idTweet      0\n",
              "Tweet        0\n",
              "Candidato    0\n",
              "dtype: int64"
            ]
          },
          "metadata": {},
          "execution_count": 14
        }
      ]
    },
    {
      "cell_type": "code",
      "source": [
        "dataframe_final_candidatos['Tweet_limpo'] = dataframe_final_candidatos['Tweet']"
      ],
      "metadata": {
        "id": "EXvQxWUGisPI"
      },
      "execution_count": null,
      "outputs": []
    },
    {
      "cell_type": "code",
      "source": [
        "dataframe_final_candidatos.head()"
      ],
      "metadata": {
        "colab": {
          "base_uri": "https://localhost:8080/",
          "height": 337
        },
        "id": "Tf6z9W7oi5pN",
        "outputId": "b8a9694d-d719-476d-fab9-a1427281b0bb"
      },
      "execution_count": null,
      "outputs": [
        {
          "output_type": "execute_result",
          "data": {
            "text/plain": [
              "                   Data_Hora              idTweet  \\\n",
              "0  2022-07-30 23:22:03+00:00  1553521334897999874   \n",
              "1  2022-07-30 23:22:03+00:00  1553521332272480256   \n",
              "2  2022-07-30 23:22:03+00:00  1553521331417006080   \n",
              "3  2022-07-30 23:22:02+00:00  1553521329709645824   \n",
              "4  2022-07-30 23:22:02+00:00  1553521328556101632   \n",
              "\n",
              "                                               Tweet Candidato  \\\n",
              "0  @LulaOficial A TODOS OS DEMOCRATAS: ASSINEM!!!...      Lula   \n",
              "1  @angelobiazus1 @SilvioN34576400 @reinaldoazeve...      Lula   \n",
              "2  @PaolaSDaniel TADINHA DA PAOLA, DODOIZINHA DA ...      Lula   \n",
              "3  @LulaOficial Quando a petezada perceber, tu tá...      Lula   \n",
              "4  @JoaoMeiraNeto63 @reinaldoazevedo Bora saudar ...      Lula   \n",
              "\n",
              "                                         Tweet_limpo  \n",
              "0  @LulaOficial A TODOS OS DEMOCRATAS: ASSINEM!!!...  \n",
              "1  @angelobiazus1 @SilvioN34576400 @reinaldoazeve...  \n",
              "2  @PaolaSDaniel TADINHA DA PAOLA, DODOIZINHA DA ...  \n",
              "3  @LulaOficial Quando a petezada perceber, tu tá...  \n",
              "4  @JoaoMeiraNeto63 @reinaldoazevedo Bora saudar ...  "
            ],
            "text/html": [
              "\n",
              "  <div id=\"df-fab4dedc-5ffa-4767-92de-6d191e89809b\">\n",
              "    <div class=\"colab-df-container\">\n",
              "      <div>\n",
              "<style scoped>\n",
              "    .dataframe tbody tr th:only-of-type {\n",
              "        vertical-align: middle;\n",
              "    }\n",
              "\n",
              "    .dataframe tbody tr th {\n",
              "        vertical-align: top;\n",
              "    }\n",
              "\n",
              "    .dataframe thead th {\n",
              "        text-align: right;\n",
              "    }\n",
              "</style>\n",
              "<table border=\"1\" class=\"dataframe\">\n",
              "  <thead>\n",
              "    <tr style=\"text-align: right;\">\n",
              "      <th></th>\n",
              "      <th>Data_Hora</th>\n",
              "      <th>idTweet</th>\n",
              "      <th>Tweet</th>\n",
              "      <th>Candidato</th>\n",
              "      <th>Tweet_limpo</th>\n",
              "    </tr>\n",
              "  </thead>\n",
              "  <tbody>\n",
              "    <tr>\n",
              "      <th>0</th>\n",
              "      <td>2022-07-30 23:22:03+00:00</td>\n",
              "      <td>1553521334897999874</td>\n",
              "      <td>@LulaOficial A TODOS OS DEMOCRATAS: ASSINEM!!!...</td>\n",
              "      <td>Lula</td>\n",
              "      <td>@LulaOficial A TODOS OS DEMOCRATAS: ASSINEM!!!...</td>\n",
              "    </tr>\n",
              "    <tr>\n",
              "      <th>1</th>\n",
              "      <td>2022-07-30 23:22:03+00:00</td>\n",
              "      <td>1553521332272480256</td>\n",
              "      <td>@angelobiazus1 @SilvioN34576400 @reinaldoazeve...</td>\n",
              "      <td>Lula</td>\n",
              "      <td>@angelobiazus1 @SilvioN34576400 @reinaldoazeve...</td>\n",
              "    </tr>\n",
              "    <tr>\n",
              "      <th>2</th>\n",
              "      <td>2022-07-30 23:22:03+00:00</td>\n",
              "      <td>1553521331417006080</td>\n",
              "      <td>@PaolaSDaniel TADINHA DA PAOLA, DODOIZINHA DA ...</td>\n",
              "      <td>Lula</td>\n",
              "      <td>@PaolaSDaniel TADINHA DA PAOLA, DODOIZINHA DA ...</td>\n",
              "    </tr>\n",
              "    <tr>\n",
              "      <th>3</th>\n",
              "      <td>2022-07-30 23:22:02+00:00</td>\n",
              "      <td>1553521329709645824</td>\n",
              "      <td>@LulaOficial Quando a petezada perceber, tu tá...</td>\n",
              "      <td>Lula</td>\n",
              "      <td>@LulaOficial Quando a petezada perceber, tu tá...</td>\n",
              "    </tr>\n",
              "    <tr>\n",
              "      <th>4</th>\n",
              "      <td>2022-07-30 23:22:02+00:00</td>\n",
              "      <td>1553521328556101632</td>\n",
              "      <td>@JoaoMeiraNeto63 @reinaldoazevedo Bora saudar ...</td>\n",
              "      <td>Lula</td>\n",
              "      <td>@JoaoMeiraNeto63 @reinaldoazevedo Bora saudar ...</td>\n",
              "    </tr>\n",
              "  </tbody>\n",
              "</table>\n",
              "</div>\n",
              "      <button class=\"colab-df-convert\" onclick=\"convertToInteractive('df-fab4dedc-5ffa-4767-92de-6d191e89809b')\"\n",
              "              title=\"Convert this dataframe to an interactive table.\"\n",
              "              style=\"display:none;\">\n",
              "        \n",
              "  <svg xmlns=\"http://www.w3.org/2000/svg\" height=\"24px\"viewBox=\"0 0 24 24\"\n",
              "       width=\"24px\">\n",
              "    <path d=\"M0 0h24v24H0V0z\" fill=\"none\"/>\n",
              "    <path d=\"M18.56 5.44l.94 2.06.94-2.06 2.06-.94-2.06-.94-.94-2.06-.94 2.06-2.06.94zm-11 1L8.5 8.5l.94-2.06 2.06-.94-2.06-.94L8.5 2.5l-.94 2.06-2.06.94zm10 10l.94 2.06.94-2.06 2.06-.94-2.06-.94-.94-2.06-.94 2.06-2.06.94z\"/><path d=\"M17.41 7.96l-1.37-1.37c-.4-.4-.92-.59-1.43-.59-.52 0-1.04.2-1.43.59L10.3 9.45l-7.72 7.72c-.78.78-.78 2.05 0 2.83L4 21.41c.39.39.9.59 1.41.59.51 0 1.02-.2 1.41-.59l7.78-7.78 2.81-2.81c.8-.78.8-2.07 0-2.86zM5.41 20L4 18.59l7.72-7.72 1.47 1.35L5.41 20z\"/>\n",
              "  </svg>\n",
              "      </button>\n",
              "      \n",
              "  <style>\n",
              "    .colab-df-container {\n",
              "      display:flex;\n",
              "      flex-wrap:wrap;\n",
              "      gap: 12px;\n",
              "    }\n",
              "\n",
              "    .colab-df-convert {\n",
              "      background-color: #E8F0FE;\n",
              "      border: none;\n",
              "      border-radius: 50%;\n",
              "      cursor: pointer;\n",
              "      display: none;\n",
              "      fill: #1967D2;\n",
              "      height: 32px;\n",
              "      padding: 0 0 0 0;\n",
              "      width: 32px;\n",
              "    }\n",
              "\n",
              "    .colab-df-convert:hover {\n",
              "      background-color: #E2EBFA;\n",
              "      box-shadow: 0px 1px 2px rgba(60, 64, 67, 0.3), 0px 1px 3px 1px rgba(60, 64, 67, 0.15);\n",
              "      fill: #174EA6;\n",
              "    }\n",
              "\n",
              "    [theme=dark] .colab-df-convert {\n",
              "      background-color: #3B4455;\n",
              "      fill: #D2E3FC;\n",
              "    }\n",
              "\n",
              "    [theme=dark] .colab-df-convert:hover {\n",
              "      background-color: #434B5C;\n",
              "      box-shadow: 0px 1px 3px 1px rgba(0, 0, 0, 0.15);\n",
              "      filter: drop-shadow(0px 1px 2px rgba(0, 0, 0, 0.3));\n",
              "      fill: #FFFFFF;\n",
              "    }\n",
              "  </style>\n",
              "\n",
              "      <script>\n",
              "        const buttonEl =\n",
              "          document.querySelector('#df-fab4dedc-5ffa-4767-92de-6d191e89809b button.colab-df-convert');\n",
              "        buttonEl.style.display =\n",
              "          google.colab.kernel.accessAllowed ? 'block' : 'none';\n",
              "\n",
              "        async function convertToInteractive(key) {\n",
              "          const element = document.querySelector('#df-fab4dedc-5ffa-4767-92de-6d191e89809b');\n",
              "          const dataTable =\n",
              "            await google.colab.kernel.invokeFunction('convertToInteractive',\n",
              "                                                     [key], {});\n",
              "          if (!dataTable) return;\n",
              "\n",
              "          const docLinkHtml = 'Like what you see? Visit the ' +\n",
              "            '<a target=\"_blank\" href=https://colab.research.google.com/notebooks/data_table.ipynb>data table notebook</a>'\n",
              "            + ' to learn more about interactive tables.';\n",
              "          element.innerHTML = '';\n",
              "          dataTable['output_type'] = 'display_data';\n",
              "          await google.colab.output.renderOutput(dataTable, element);\n",
              "          const docLink = document.createElement('div');\n",
              "          docLink.innerHTML = docLinkHtml;\n",
              "          element.appendChild(docLink);\n",
              "        }\n",
              "      </script>\n",
              "    </div>\n",
              "  </div>\n",
              "  "
            ]
          },
          "metadata": {},
          "execution_count": 16
        }
      ]
    },
    {
      "cell_type": "code",
      "source": [
        "def limpeza_do_texto(tweet):\n",
        "    tweet = tweet.lower()\n",
        "    tweet = re.sub('\\n', '', tweet)\n",
        "    tweet = re.sub('@[^\\s]+', '', tweet)\n",
        "    tweet = re.sub('\\B#\\S+', '', tweet)\n",
        "    tweet = re.sub('https?://\\S|www\\.\\S+', '', tweet)\n",
        "    return tweet"
      ],
      "metadata": {
        "id": "9y3NQMqbi-4-"
      },
      "execution_count": null,
      "outputs": []
    },
    {
      "cell_type": "code",
      "source": [
        "dataframe_final_candidatos['Tweet_limpo'] = dataframe_final_candidatos['Tweet'].apply(lambda i:limpeza_do_texto(i))"
      ],
      "metadata": {
        "id": "QzJD5Hzij56f"
      },
      "execution_count": null,
      "outputs": []
    },
    {
      "cell_type": "code",
      "source": [
        "dataframe_final_candidatos.head()"
      ],
      "metadata": {
        "colab": {
          "base_uri": "https://localhost:8080/",
          "height": 337
        },
        "id": "6X8Du5wCkb95",
        "outputId": "e4a3101a-c7c7-4430-b8b7-55050af53734"
      },
      "execution_count": null,
      "outputs": [
        {
          "output_type": "execute_result",
          "data": {
            "text/plain": [
              "                   Data_Hora              idTweet  \\\n",
              "0  2022-07-30 23:22:03+00:00  1553521334897999874   \n",
              "1  2022-07-30 23:22:03+00:00  1553521332272480256   \n",
              "2  2022-07-30 23:22:03+00:00  1553521331417006080   \n",
              "3  2022-07-30 23:22:02+00:00  1553521329709645824   \n",
              "4  2022-07-30 23:22:02+00:00  1553521328556101632   \n",
              "\n",
              "                                               Tweet Candidato  \\\n",
              "0  @LulaOficial A TODOS OS DEMOCRATAS: ASSINEM!!!...      Lula   \n",
              "1  @angelobiazus1 @SilvioN34576400 @reinaldoazeve...      Lula   \n",
              "2  @PaolaSDaniel TADINHA DA PAOLA, DODOIZINHA DA ...      Lula   \n",
              "3  @LulaOficial Quando a petezada perceber, tu tá...      Lula   \n",
              "4  @JoaoMeiraNeto63 @reinaldoazevedo Bora saudar ...      Lula   \n",
              "\n",
              "                                         Tweet_limpo  \n",
              "0   a todos os democratas: assinem!!! carta às br...  \n",
              "1     pô mané... passa esse atestado não. tivemos...  \n",
              "2   tadinha da paola, dodoizinha da cabeça.lula e...  \n",
              "3              quando a petezada perceber, tu tá fu.  \n",
              "4    bora saudar a mandioca e os meninos do lula ...  "
            ],
            "text/html": [
              "\n",
              "  <div id=\"df-e249c264-5550-48bb-99be-d60d0981169c\">\n",
              "    <div class=\"colab-df-container\">\n",
              "      <div>\n",
              "<style scoped>\n",
              "    .dataframe tbody tr th:only-of-type {\n",
              "        vertical-align: middle;\n",
              "    }\n",
              "\n",
              "    .dataframe tbody tr th {\n",
              "        vertical-align: top;\n",
              "    }\n",
              "\n",
              "    .dataframe thead th {\n",
              "        text-align: right;\n",
              "    }\n",
              "</style>\n",
              "<table border=\"1\" class=\"dataframe\">\n",
              "  <thead>\n",
              "    <tr style=\"text-align: right;\">\n",
              "      <th></th>\n",
              "      <th>Data_Hora</th>\n",
              "      <th>idTweet</th>\n",
              "      <th>Tweet</th>\n",
              "      <th>Candidato</th>\n",
              "      <th>Tweet_limpo</th>\n",
              "    </tr>\n",
              "  </thead>\n",
              "  <tbody>\n",
              "    <tr>\n",
              "      <th>0</th>\n",
              "      <td>2022-07-30 23:22:03+00:00</td>\n",
              "      <td>1553521334897999874</td>\n",
              "      <td>@LulaOficial A TODOS OS DEMOCRATAS: ASSINEM!!!...</td>\n",
              "      <td>Lula</td>\n",
              "      <td>a todos os democratas: assinem!!! carta às br...</td>\n",
              "    </tr>\n",
              "    <tr>\n",
              "      <th>1</th>\n",
              "      <td>2022-07-30 23:22:03+00:00</td>\n",
              "      <td>1553521332272480256</td>\n",
              "      <td>@angelobiazus1 @SilvioN34576400 @reinaldoazeve...</td>\n",
              "      <td>Lula</td>\n",
              "      <td>pô mané... passa esse atestado não. tivemos...</td>\n",
              "    </tr>\n",
              "    <tr>\n",
              "      <th>2</th>\n",
              "      <td>2022-07-30 23:22:03+00:00</td>\n",
              "      <td>1553521331417006080</td>\n",
              "      <td>@PaolaSDaniel TADINHA DA PAOLA, DODOIZINHA DA ...</td>\n",
              "      <td>Lula</td>\n",
              "      <td>tadinha da paola, dodoizinha da cabeça.lula e...</td>\n",
              "    </tr>\n",
              "    <tr>\n",
              "      <th>3</th>\n",
              "      <td>2022-07-30 23:22:02+00:00</td>\n",
              "      <td>1553521329709645824</td>\n",
              "      <td>@LulaOficial Quando a petezada perceber, tu tá...</td>\n",
              "      <td>Lula</td>\n",
              "      <td>quando a petezada perceber, tu tá fu.</td>\n",
              "    </tr>\n",
              "    <tr>\n",
              "      <th>4</th>\n",
              "      <td>2022-07-30 23:22:02+00:00</td>\n",
              "      <td>1553521328556101632</td>\n",
              "      <td>@JoaoMeiraNeto63 @reinaldoazevedo Bora saudar ...</td>\n",
              "      <td>Lula</td>\n",
              "      <td>bora saudar a mandioca e os meninos do lula ...</td>\n",
              "    </tr>\n",
              "  </tbody>\n",
              "</table>\n",
              "</div>\n",
              "      <button class=\"colab-df-convert\" onclick=\"convertToInteractive('df-e249c264-5550-48bb-99be-d60d0981169c')\"\n",
              "              title=\"Convert this dataframe to an interactive table.\"\n",
              "              style=\"display:none;\">\n",
              "        \n",
              "  <svg xmlns=\"http://www.w3.org/2000/svg\" height=\"24px\"viewBox=\"0 0 24 24\"\n",
              "       width=\"24px\">\n",
              "    <path d=\"M0 0h24v24H0V0z\" fill=\"none\"/>\n",
              "    <path d=\"M18.56 5.44l.94 2.06.94-2.06 2.06-.94-2.06-.94-.94-2.06-.94 2.06-2.06.94zm-11 1L8.5 8.5l.94-2.06 2.06-.94-2.06-.94L8.5 2.5l-.94 2.06-2.06.94zm10 10l.94 2.06.94-2.06 2.06-.94-2.06-.94-.94-2.06-.94 2.06-2.06.94z\"/><path d=\"M17.41 7.96l-1.37-1.37c-.4-.4-.92-.59-1.43-.59-.52 0-1.04.2-1.43.59L10.3 9.45l-7.72 7.72c-.78.78-.78 2.05 0 2.83L4 21.41c.39.39.9.59 1.41.59.51 0 1.02-.2 1.41-.59l7.78-7.78 2.81-2.81c.8-.78.8-2.07 0-2.86zM5.41 20L4 18.59l7.72-7.72 1.47 1.35L5.41 20z\"/>\n",
              "  </svg>\n",
              "      </button>\n",
              "      \n",
              "  <style>\n",
              "    .colab-df-container {\n",
              "      display:flex;\n",
              "      flex-wrap:wrap;\n",
              "      gap: 12px;\n",
              "    }\n",
              "\n",
              "    .colab-df-convert {\n",
              "      background-color: #E8F0FE;\n",
              "      border: none;\n",
              "      border-radius: 50%;\n",
              "      cursor: pointer;\n",
              "      display: none;\n",
              "      fill: #1967D2;\n",
              "      height: 32px;\n",
              "      padding: 0 0 0 0;\n",
              "      width: 32px;\n",
              "    }\n",
              "\n",
              "    .colab-df-convert:hover {\n",
              "      background-color: #E2EBFA;\n",
              "      box-shadow: 0px 1px 2px rgba(60, 64, 67, 0.3), 0px 1px 3px 1px rgba(60, 64, 67, 0.15);\n",
              "      fill: #174EA6;\n",
              "    }\n",
              "\n",
              "    [theme=dark] .colab-df-convert {\n",
              "      background-color: #3B4455;\n",
              "      fill: #D2E3FC;\n",
              "    }\n",
              "\n",
              "    [theme=dark] .colab-df-convert:hover {\n",
              "      background-color: #434B5C;\n",
              "      box-shadow: 0px 1px 3px 1px rgba(0, 0, 0, 0.15);\n",
              "      filter: drop-shadow(0px 1px 2px rgba(0, 0, 0, 0.3));\n",
              "      fill: #FFFFFF;\n",
              "    }\n",
              "  </style>\n",
              "\n",
              "      <script>\n",
              "        const buttonEl =\n",
              "          document.querySelector('#df-e249c264-5550-48bb-99be-d60d0981169c button.colab-df-convert');\n",
              "        buttonEl.style.display =\n",
              "          google.colab.kernel.accessAllowed ? 'block' : 'none';\n",
              "\n",
              "        async function convertToInteractive(key) {\n",
              "          const element = document.querySelector('#df-e249c264-5550-48bb-99be-d60d0981169c');\n",
              "          const dataTable =\n",
              "            await google.colab.kernel.invokeFunction('convertToInteractive',\n",
              "                                                     [key], {});\n",
              "          if (!dataTable) return;\n",
              "\n",
              "          const docLinkHtml = 'Like what you see? Visit the ' +\n",
              "            '<a target=\"_blank\" href=https://colab.research.google.com/notebooks/data_table.ipynb>data table notebook</a>'\n",
              "            + ' to learn more about interactive tables.';\n",
              "          element.innerHTML = '';\n",
              "          dataTable['output_type'] = 'display_data';\n",
              "          await google.colab.output.renderOutput(dataTable, element);\n",
              "          const docLink = document.createElement('div');\n",
              "          docLink.innerHTML = docLinkHtml;\n",
              "          element.appendChild(docLink);\n",
              "        }\n",
              "      </script>\n",
              "    </div>\n",
              "  </div>\n",
              "  "
            ]
          },
          "metadata": {},
          "execution_count": 19
        }
      ]
    },
    {
      "cell_type": "code",
      "source": [
        "dataframe_final_candidatos.to_csv('dataframe_final_candidatos_pronto_sentimento.csv', sep=',', index=False)"
      ],
      "metadata": {
        "id": "7ZKBhQuckd_g"
      },
      "execution_count": null,
      "outputs": []
    }
  ]
}
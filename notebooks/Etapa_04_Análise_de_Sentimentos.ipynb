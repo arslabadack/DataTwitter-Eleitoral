{
  "nbformat": 4,
  "nbformat_minor": 0,
  "metadata": {
    "colab": {
      "name": "Etapa 04: Análise de Sentimentos.ipynb",
      "provenance": []
    },
    "kernelspec": {
      "name": "python3",
      "display_name": "Python 3"
    },
    "language_info": {
      "name": "python"
    }
  },
  "cells": [
    {
      "cell_type": "code",
      "execution_count": 50,
      "metadata": {
        "id": "pSnD1qgvQfox",
        "colab": {
          "base_uri": "https://localhost:8080/"
        },
        "outputId": "dd5c08f3-db8f-4d9f-ee5d-8d751b95a178"
      },
      "outputs": [
        {
          "output_type": "stream",
          "name": "stdout",
          "text": [
            "Looking in indexes: https://pypi.org/simple, https://us-python.pkg.dev/colab-wheels/public/simple/\n",
            "Requirement already satisfied: vaderSentiment in /usr/local/lib/python3.7/dist-packages (3.3.2)\n",
            "Requirement already satisfied: requests in /usr/local/lib/python3.7/dist-packages (from vaderSentiment) (2.23.0)\n",
            "Requirement already satisfied: chardet<4,>=3.0.2 in /usr/local/lib/python3.7/dist-packages (from requests->vaderSentiment) (3.0.4)\n",
            "Requirement already satisfied: certifi>=2017.4.17 in /usr/local/lib/python3.7/dist-packages (from requests->vaderSentiment) (2022.6.15)\n",
            "Requirement already satisfied: urllib3!=1.25.0,!=1.25.1,<1.26,>=1.21.1 in /usr/local/lib/python3.7/dist-packages (from requests->vaderSentiment) (1.24.3)\n",
            "Requirement already satisfied: idna<3,>=2.5 in /usr/local/lib/python3.7/dist-packages (from requests->vaderSentiment) (2.10)\n"
          ]
        }
      ],
      "source": [
        "pip install vaderSentiment"
      ]
    },
    {
      "cell_type": "code",
      "source": [
        "import pandas as pd\n",
        "import re\n",
        "\n",
        "import matplotlib.pyplot as plt\n",
        "import seaborn as sns\n",
        "\n",
        "import nltk\n",
        "\n",
        "from nltk.sentiment.vader import SentimentIntensityAnalyzer as SIA\n",
        "from vaderSentiment.vaderSentiment import SentimentIntensityAnalyzer"
      ],
      "metadata": {
        "id": "O6gNcji0lhEq"
      },
      "execution_count": 51,
      "outputs": []
    },
    {
      "cell_type": "code",
      "source": [
        "dataframe_sentimento = pd.read_csv(\"dataframe_final_candidatos_pronto_sentimento.csv\")"
      ],
      "metadata": {
        "id": "xoyqvXBkljUR"
      },
      "execution_count": 52,
      "outputs": []
    },
    {
      "cell_type": "code",
      "source": [
        "analisador_de_texto = SentimentIntensityAnalyzer()"
      ],
      "metadata": {
        "id": "4vZhTDEgmP31"
      },
      "execution_count": 53,
      "outputs": []
    },
    {
      "cell_type": "code",
      "source": [
        "dataframe_sentimento['Sentimento'] = dataframe_sentimento['Tweet_limpo'].apply(lambda i: analisador_de_texto.polarity_scores(' '.join(re.findall(r'\\w+', i.lower()))))"
      ],
      "metadata": {
        "id": "IZ6Hw8xCnG0g"
      },
      "execution_count": 54,
      "outputs": []
    },
    {
      "cell_type": "code",
      "source": [
        "dataframe_sentimento.head()"
      ],
      "metadata": {
        "id": "qDiH0PBAqqfN",
        "outputId": "7b6e8f0e-ce0a-4c0f-d53c-a4e557e984f5",
        "colab": {
          "base_uri": "https://localhost:8080/",
          "height": 406
        }
      },
      "execution_count": 55,
      "outputs": [
        {
          "output_type": "execute_result",
          "data": {
            "text/plain": [
              "                   Data_Hora              idTweet  \\\n",
              "0  2022-07-30 23:22:03+00:00  1553521334897999874   \n",
              "1  2022-07-30 23:22:03+00:00  1553521332272480256   \n",
              "2  2022-07-30 23:22:03+00:00  1553521331417006080   \n",
              "3  2022-07-30 23:22:02+00:00  1553521329709645824   \n",
              "4  2022-07-30 23:22:02+00:00  1553521328556101632   \n",
              "\n",
              "                                               Tweet Candidato  \\\n",
              "0  @LulaOficial A TODOS OS DEMOCRATAS: ASSINEM!!!...      Lula   \n",
              "1  @angelobiazus1 @SilvioN34576400 @reinaldoazeve...      Lula   \n",
              "2  @PaolaSDaniel TADINHA DA PAOLA, DODOIZINHA DA ...      Lula   \n",
              "3  @LulaOficial Quando a petezada perceber, tu tá...      Lula   \n",
              "4  @JoaoMeiraNeto63 @reinaldoazevedo Bora saudar ...      Lula   \n",
              "\n",
              "                                         Tweet_limpo  \\\n",
              "0   a todos os democratas: assinem!!! carta às br...   \n",
              "1     pô mané... passa esse atestado não. tivemos...   \n",
              "2   tadinha da paola, dodoizinha da cabeça.lula e...   \n",
              "3              quando a petezada perceber, tu tá fu.   \n",
              "4    bora saudar a mandioca e os meninos do lula ...   \n",
              "\n",
              "                                          Sentimento  \n",
              "0  {'neg': 0.0, 'neu': 1.0, 'pos': 0.0, 'compound...  \n",
              "1  {'neg': 0.14, 'neu': 0.86, 'pos': 0.0, 'compou...  \n",
              "2  {'neg': 0.155, 'neu': 0.845, 'pos': 0.0, 'comp...  \n",
              "3  {'neg': 0.439, 'neu': 0.561, 'pos': 0.0, 'comp...  \n",
              "4  {'neg': 0.0, 'neu': 1.0, 'pos': 0.0, 'compound...  "
            ],
            "text/html": [
              "\n",
              "  <div id=\"df-46fa9e32-7f31-4d79-a5cf-2ce9ae156404\">\n",
              "    <div class=\"colab-df-container\">\n",
              "      <div>\n",
              "<style scoped>\n",
              "    .dataframe tbody tr th:only-of-type {\n",
              "        vertical-align: middle;\n",
              "    }\n",
              "\n",
              "    .dataframe tbody tr th {\n",
              "        vertical-align: top;\n",
              "    }\n",
              "\n",
              "    .dataframe thead th {\n",
              "        text-align: right;\n",
              "    }\n",
              "</style>\n",
              "<table border=\"1\" class=\"dataframe\">\n",
              "  <thead>\n",
              "    <tr style=\"text-align: right;\">\n",
              "      <th></th>\n",
              "      <th>Data_Hora</th>\n",
              "      <th>idTweet</th>\n",
              "      <th>Tweet</th>\n",
              "      <th>Candidato</th>\n",
              "      <th>Tweet_limpo</th>\n",
              "      <th>Sentimento</th>\n",
              "    </tr>\n",
              "  </thead>\n",
              "  <tbody>\n",
              "    <tr>\n",
              "      <th>0</th>\n",
              "      <td>2022-07-30 23:22:03+00:00</td>\n",
              "      <td>1553521334897999874</td>\n",
              "      <td>@LulaOficial A TODOS OS DEMOCRATAS: ASSINEM!!!...</td>\n",
              "      <td>Lula</td>\n",
              "      <td>a todos os democratas: assinem!!! carta às br...</td>\n",
              "      <td>{'neg': 0.0, 'neu': 1.0, 'pos': 0.0, 'compound...</td>\n",
              "    </tr>\n",
              "    <tr>\n",
              "      <th>1</th>\n",
              "      <td>2022-07-30 23:22:03+00:00</td>\n",
              "      <td>1553521332272480256</td>\n",
              "      <td>@angelobiazus1 @SilvioN34576400 @reinaldoazeve...</td>\n",
              "      <td>Lula</td>\n",
              "      <td>pô mané... passa esse atestado não. tivemos...</td>\n",
              "      <td>{'neg': 0.14, 'neu': 0.86, 'pos': 0.0, 'compou...</td>\n",
              "    </tr>\n",
              "    <tr>\n",
              "      <th>2</th>\n",
              "      <td>2022-07-30 23:22:03+00:00</td>\n",
              "      <td>1553521331417006080</td>\n",
              "      <td>@PaolaSDaniel TADINHA DA PAOLA, DODOIZINHA DA ...</td>\n",
              "      <td>Lula</td>\n",
              "      <td>tadinha da paola, dodoizinha da cabeça.lula e...</td>\n",
              "      <td>{'neg': 0.155, 'neu': 0.845, 'pos': 0.0, 'comp...</td>\n",
              "    </tr>\n",
              "    <tr>\n",
              "      <th>3</th>\n",
              "      <td>2022-07-30 23:22:02+00:00</td>\n",
              "      <td>1553521329709645824</td>\n",
              "      <td>@LulaOficial Quando a petezada perceber, tu tá...</td>\n",
              "      <td>Lula</td>\n",
              "      <td>quando a petezada perceber, tu tá fu.</td>\n",
              "      <td>{'neg': 0.439, 'neu': 0.561, 'pos': 0.0, 'comp...</td>\n",
              "    </tr>\n",
              "    <tr>\n",
              "      <th>4</th>\n",
              "      <td>2022-07-30 23:22:02+00:00</td>\n",
              "      <td>1553521328556101632</td>\n",
              "      <td>@JoaoMeiraNeto63 @reinaldoazevedo Bora saudar ...</td>\n",
              "      <td>Lula</td>\n",
              "      <td>bora saudar a mandioca e os meninos do lula ...</td>\n",
              "      <td>{'neg': 0.0, 'neu': 1.0, 'pos': 0.0, 'compound...</td>\n",
              "    </tr>\n",
              "  </tbody>\n",
              "</table>\n",
              "</div>\n",
              "      <button class=\"colab-df-convert\" onclick=\"convertToInteractive('df-46fa9e32-7f31-4d79-a5cf-2ce9ae156404')\"\n",
              "              title=\"Convert this dataframe to an interactive table.\"\n",
              "              style=\"display:none;\">\n",
              "        \n",
              "  <svg xmlns=\"http://www.w3.org/2000/svg\" height=\"24px\"viewBox=\"0 0 24 24\"\n",
              "       width=\"24px\">\n",
              "    <path d=\"M0 0h24v24H0V0z\" fill=\"none\"/>\n",
              "    <path d=\"M18.56 5.44l.94 2.06.94-2.06 2.06-.94-2.06-.94-.94-2.06-.94 2.06-2.06.94zm-11 1L8.5 8.5l.94-2.06 2.06-.94-2.06-.94L8.5 2.5l-.94 2.06-2.06.94zm10 10l.94 2.06.94-2.06 2.06-.94-2.06-.94-.94-2.06-.94 2.06-2.06.94z\"/><path d=\"M17.41 7.96l-1.37-1.37c-.4-.4-.92-.59-1.43-.59-.52 0-1.04.2-1.43.59L10.3 9.45l-7.72 7.72c-.78.78-.78 2.05 0 2.83L4 21.41c.39.39.9.59 1.41.59.51 0 1.02-.2 1.41-.59l7.78-7.78 2.81-2.81c.8-.78.8-2.07 0-2.86zM5.41 20L4 18.59l7.72-7.72 1.47 1.35L5.41 20z\"/>\n",
              "  </svg>\n",
              "      </button>\n",
              "      \n",
              "  <style>\n",
              "    .colab-df-container {\n",
              "      display:flex;\n",
              "      flex-wrap:wrap;\n",
              "      gap: 12px;\n",
              "    }\n",
              "\n",
              "    .colab-df-convert {\n",
              "      background-color: #E8F0FE;\n",
              "      border: none;\n",
              "      border-radius: 50%;\n",
              "      cursor: pointer;\n",
              "      display: none;\n",
              "      fill: #1967D2;\n",
              "      height: 32px;\n",
              "      padding: 0 0 0 0;\n",
              "      width: 32px;\n",
              "    }\n",
              "\n",
              "    .colab-df-convert:hover {\n",
              "      background-color: #E2EBFA;\n",
              "      box-shadow: 0px 1px 2px rgba(60, 64, 67, 0.3), 0px 1px 3px 1px rgba(60, 64, 67, 0.15);\n",
              "      fill: #174EA6;\n",
              "    }\n",
              "\n",
              "    [theme=dark] .colab-df-convert {\n",
              "      background-color: #3B4455;\n",
              "      fill: #D2E3FC;\n",
              "    }\n",
              "\n",
              "    [theme=dark] .colab-df-convert:hover {\n",
              "      background-color: #434B5C;\n",
              "      box-shadow: 0px 1px 3px 1px rgba(0, 0, 0, 0.15);\n",
              "      filter: drop-shadow(0px 1px 2px rgba(0, 0, 0, 0.3));\n",
              "      fill: #FFFFFF;\n",
              "    }\n",
              "  </style>\n",
              "\n",
              "      <script>\n",
              "        const buttonEl =\n",
              "          document.querySelector('#df-46fa9e32-7f31-4d79-a5cf-2ce9ae156404 button.colab-df-convert');\n",
              "        buttonEl.style.display =\n",
              "          google.colab.kernel.accessAllowed ? 'block' : 'none';\n",
              "\n",
              "        async function convertToInteractive(key) {\n",
              "          const element = document.querySelector('#df-46fa9e32-7f31-4d79-a5cf-2ce9ae156404');\n",
              "          const dataTable =\n",
              "            await google.colab.kernel.invokeFunction('convertToInteractive',\n",
              "                                                     [key], {});\n",
              "          if (!dataTable) return;\n",
              "\n",
              "          const docLinkHtml = 'Like what you see? Visit the ' +\n",
              "            '<a target=\"_blank\" href=https://colab.research.google.com/notebooks/data_table.ipynb>data table notebook</a>'\n",
              "            + ' to learn more about interactive tables.';\n",
              "          element.innerHTML = '';\n",
              "          dataTable['output_type'] = 'display_data';\n",
              "          await google.colab.output.renderOutput(dataTable, element);\n",
              "          const docLink = document.createElement('div');\n",
              "          docLink.innerHTML = docLinkHtml;\n",
              "          element.appendChild(docLink);\n",
              "        }\n",
              "      </script>\n",
              "    </div>\n",
              "  </div>\n",
              "  "
            ]
          },
          "metadata": {},
          "execution_count": 55
        }
      ]
    },
    {
      "cell_type": "code",
      "source": [
        "dataframe_sentimento['Sentimento']"
      ],
      "metadata": {
        "id": "y5e1wDFoqtNs",
        "colab": {
          "base_uri": "https://localhost:8080/"
        },
        "outputId": "b812f047-ce7a-44aa-d33e-05212c42a48d"
      },
      "execution_count": 56,
      "outputs": [
        {
          "output_type": "execute_result",
          "data": {
            "text/plain": [
              "0      {'neg': 0.0, 'neu': 1.0, 'pos': 0.0, 'compound...\n",
              "1      {'neg': 0.14, 'neu': 0.86, 'pos': 0.0, 'compou...\n",
              "2      {'neg': 0.155, 'neu': 0.845, 'pos': 0.0, 'comp...\n",
              "3      {'neg': 0.439, 'neu': 0.561, 'pos': 0.0, 'comp...\n",
              "4      {'neg': 0.0, 'neu': 1.0, 'pos': 0.0, 'compound...\n",
              "                             ...                        \n",
              "148    {'neg': 0.0, 'neu': 1.0, 'pos': 0.0, 'compound...\n",
              "149    {'neg': 0.128, 'neu': 0.872, 'pos': 0.0, 'comp...\n",
              "150    {'neg': 0.0, 'neu': 1.0, 'pos': 0.0, 'compound...\n",
              "151    {'neg': 0.0, 'neu': 1.0, 'pos': 0.0, 'compound...\n",
              "152    {'neg': 0.167, 'neu': 0.833, 'pos': 0.0, 'comp...\n",
              "Name: Sentimento, Length: 153, dtype: object"
            ]
          },
          "metadata": {},
          "execution_count": 56
        }
      ]
    },
    {
      "cell_type": "code",
      "source": [
        "dataframe_sentimento['Positivo'] = dataframe_sentimento['Sentimento'].apply(lambda i:i['pos'])"
      ],
      "metadata": {
        "id": "orhsKs_Vcy2V"
      },
      "execution_count": 57,
      "outputs": []
    },
    {
      "cell_type": "code",
      "source": [
        "dataframe_sentimento['Negativo'] = dataframe_sentimento['Sentimento'].apply(lambda i:i['neg'])"
      ],
      "metadata": {
        "id": "kzgc8QIid5Ld"
      },
      "execution_count": 58,
      "outputs": []
    },
    {
      "cell_type": "code",
      "source": [
        "dataframe_sentimento['Neutro'] = dataframe_sentimento['Sentimento'].apply(lambda i:i['neu'])"
      ],
      "metadata": {
        "id": "hFbuc1d5d9I2"
      },
      "execution_count": 59,
      "outputs": []
    },
    {
      "cell_type": "code",
      "source": [
        "dataframe_sentimento['Composicao'] = dataframe_sentimento['Sentimento'].apply(lambda i:i['compound'])"
      ],
      "metadata": {
        "id": "Ypgd-yACeAYF"
      },
      "execution_count": 60,
      "outputs": []
    },
    {
      "cell_type": "code",
      "source": [
        "dataframe_sentimento.head()"
      ],
      "metadata": {
        "colab": {
          "base_uri": "https://localhost:8080/",
          "height": 548
        },
        "id": "7X4GCGZceRil",
        "outputId": "ff5f8a1f-0174-4873-d3bc-a4d3a4882596"
      },
      "execution_count": 61,
      "outputs": [
        {
          "output_type": "execute_result",
          "data": {
            "text/plain": [
              "                   Data_Hora              idTweet  \\\n",
              "0  2022-07-30 23:22:03+00:00  1553521334897999874   \n",
              "1  2022-07-30 23:22:03+00:00  1553521332272480256   \n",
              "2  2022-07-30 23:22:03+00:00  1553521331417006080   \n",
              "3  2022-07-30 23:22:02+00:00  1553521329709645824   \n",
              "4  2022-07-30 23:22:02+00:00  1553521328556101632   \n",
              "\n",
              "                                               Tweet Candidato  \\\n",
              "0  @LulaOficial A TODOS OS DEMOCRATAS: ASSINEM!!!...      Lula   \n",
              "1  @angelobiazus1 @SilvioN34576400 @reinaldoazeve...      Lula   \n",
              "2  @PaolaSDaniel TADINHA DA PAOLA, DODOIZINHA DA ...      Lula   \n",
              "3  @LulaOficial Quando a petezada perceber, tu tá...      Lula   \n",
              "4  @JoaoMeiraNeto63 @reinaldoazevedo Bora saudar ...      Lula   \n",
              "\n",
              "                                         Tweet_limpo  \\\n",
              "0   a todos os democratas: assinem!!! carta às br...   \n",
              "1     pô mané... passa esse atestado não. tivemos...   \n",
              "2   tadinha da paola, dodoizinha da cabeça.lula e...   \n",
              "3              quando a petezada perceber, tu tá fu.   \n",
              "4    bora saudar a mandioca e os meninos do lula ...   \n",
              "\n",
              "                                          Sentimento  Positivo  Negativo  \\\n",
              "0  {'neg': 0.0, 'neu': 1.0, 'pos': 0.0, 'compound...       0.0     0.000   \n",
              "1  {'neg': 0.14, 'neu': 0.86, 'pos': 0.0, 'compou...       0.0     0.140   \n",
              "2  {'neg': 0.155, 'neu': 0.845, 'pos': 0.0, 'comp...       0.0     0.155   \n",
              "3  {'neg': 0.439, 'neu': 0.561, 'pos': 0.0, 'comp...       0.0     0.439   \n",
              "4  {'neg': 0.0, 'neu': 1.0, 'pos': 0.0, 'compound...       0.0     0.000   \n",
              "\n",
              "   Neutro  Composicao  \n",
              "0   1.000      0.0000  \n",
              "1   0.860     -0.5267  \n",
              "2   0.845     -0.2960  \n",
              "3   0.561     -0.6908  \n",
              "4   1.000      0.0000  "
            ],
            "text/html": [
              "\n",
              "  <div id=\"df-2f242549-c822-42e2-9103-f23c02043b91\">\n",
              "    <div class=\"colab-df-container\">\n",
              "      <div>\n",
              "<style scoped>\n",
              "    .dataframe tbody tr th:only-of-type {\n",
              "        vertical-align: middle;\n",
              "    }\n",
              "\n",
              "    .dataframe tbody tr th {\n",
              "        vertical-align: top;\n",
              "    }\n",
              "\n",
              "    .dataframe thead th {\n",
              "        text-align: right;\n",
              "    }\n",
              "</style>\n",
              "<table border=\"1\" class=\"dataframe\">\n",
              "  <thead>\n",
              "    <tr style=\"text-align: right;\">\n",
              "      <th></th>\n",
              "      <th>Data_Hora</th>\n",
              "      <th>idTweet</th>\n",
              "      <th>Tweet</th>\n",
              "      <th>Candidato</th>\n",
              "      <th>Tweet_limpo</th>\n",
              "      <th>Sentimento</th>\n",
              "      <th>Positivo</th>\n",
              "      <th>Negativo</th>\n",
              "      <th>Neutro</th>\n",
              "      <th>Composicao</th>\n",
              "    </tr>\n",
              "  </thead>\n",
              "  <tbody>\n",
              "    <tr>\n",
              "      <th>0</th>\n",
              "      <td>2022-07-30 23:22:03+00:00</td>\n",
              "      <td>1553521334897999874</td>\n",
              "      <td>@LulaOficial A TODOS OS DEMOCRATAS: ASSINEM!!!...</td>\n",
              "      <td>Lula</td>\n",
              "      <td>a todos os democratas: assinem!!! carta às br...</td>\n",
              "      <td>{'neg': 0.0, 'neu': 1.0, 'pos': 0.0, 'compound...</td>\n",
              "      <td>0.0</td>\n",
              "      <td>0.000</td>\n",
              "      <td>1.000</td>\n",
              "      <td>0.0000</td>\n",
              "    </tr>\n",
              "    <tr>\n",
              "      <th>1</th>\n",
              "      <td>2022-07-30 23:22:03+00:00</td>\n",
              "      <td>1553521332272480256</td>\n",
              "      <td>@angelobiazus1 @SilvioN34576400 @reinaldoazeve...</td>\n",
              "      <td>Lula</td>\n",
              "      <td>pô mané... passa esse atestado não. tivemos...</td>\n",
              "      <td>{'neg': 0.14, 'neu': 0.86, 'pos': 0.0, 'compou...</td>\n",
              "      <td>0.0</td>\n",
              "      <td>0.140</td>\n",
              "      <td>0.860</td>\n",
              "      <td>-0.5267</td>\n",
              "    </tr>\n",
              "    <tr>\n",
              "      <th>2</th>\n",
              "      <td>2022-07-30 23:22:03+00:00</td>\n",
              "      <td>1553521331417006080</td>\n",
              "      <td>@PaolaSDaniel TADINHA DA PAOLA, DODOIZINHA DA ...</td>\n",
              "      <td>Lula</td>\n",
              "      <td>tadinha da paola, dodoizinha da cabeça.lula e...</td>\n",
              "      <td>{'neg': 0.155, 'neu': 0.845, 'pos': 0.0, 'comp...</td>\n",
              "      <td>0.0</td>\n",
              "      <td>0.155</td>\n",
              "      <td>0.845</td>\n",
              "      <td>-0.2960</td>\n",
              "    </tr>\n",
              "    <tr>\n",
              "      <th>3</th>\n",
              "      <td>2022-07-30 23:22:02+00:00</td>\n",
              "      <td>1553521329709645824</td>\n",
              "      <td>@LulaOficial Quando a petezada perceber, tu tá...</td>\n",
              "      <td>Lula</td>\n",
              "      <td>quando a petezada perceber, tu tá fu.</td>\n",
              "      <td>{'neg': 0.439, 'neu': 0.561, 'pos': 0.0, 'comp...</td>\n",
              "      <td>0.0</td>\n",
              "      <td>0.439</td>\n",
              "      <td>0.561</td>\n",
              "      <td>-0.6908</td>\n",
              "    </tr>\n",
              "    <tr>\n",
              "      <th>4</th>\n",
              "      <td>2022-07-30 23:22:02+00:00</td>\n",
              "      <td>1553521328556101632</td>\n",
              "      <td>@JoaoMeiraNeto63 @reinaldoazevedo Bora saudar ...</td>\n",
              "      <td>Lula</td>\n",
              "      <td>bora saudar a mandioca e os meninos do lula ...</td>\n",
              "      <td>{'neg': 0.0, 'neu': 1.0, 'pos': 0.0, 'compound...</td>\n",
              "      <td>0.0</td>\n",
              "      <td>0.000</td>\n",
              "      <td>1.000</td>\n",
              "      <td>0.0000</td>\n",
              "    </tr>\n",
              "  </tbody>\n",
              "</table>\n",
              "</div>\n",
              "      <button class=\"colab-df-convert\" onclick=\"convertToInteractive('df-2f242549-c822-42e2-9103-f23c02043b91')\"\n",
              "              title=\"Convert this dataframe to an interactive table.\"\n",
              "              style=\"display:none;\">\n",
              "        \n",
              "  <svg xmlns=\"http://www.w3.org/2000/svg\" height=\"24px\"viewBox=\"0 0 24 24\"\n",
              "       width=\"24px\">\n",
              "    <path d=\"M0 0h24v24H0V0z\" fill=\"none\"/>\n",
              "    <path d=\"M18.56 5.44l.94 2.06.94-2.06 2.06-.94-2.06-.94-.94-2.06-.94 2.06-2.06.94zm-11 1L8.5 8.5l.94-2.06 2.06-.94-2.06-.94L8.5 2.5l-.94 2.06-2.06.94zm10 10l.94 2.06.94-2.06 2.06-.94-2.06-.94-.94-2.06-.94 2.06-2.06.94z\"/><path d=\"M17.41 7.96l-1.37-1.37c-.4-.4-.92-.59-1.43-.59-.52 0-1.04.2-1.43.59L10.3 9.45l-7.72 7.72c-.78.78-.78 2.05 0 2.83L4 21.41c.39.39.9.59 1.41.59.51 0 1.02-.2 1.41-.59l7.78-7.78 2.81-2.81c.8-.78.8-2.07 0-2.86zM5.41 20L4 18.59l7.72-7.72 1.47 1.35L5.41 20z\"/>\n",
              "  </svg>\n",
              "      </button>\n",
              "      \n",
              "  <style>\n",
              "    .colab-df-container {\n",
              "      display:flex;\n",
              "      flex-wrap:wrap;\n",
              "      gap: 12px;\n",
              "    }\n",
              "\n",
              "    .colab-df-convert {\n",
              "      background-color: #E8F0FE;\n",
              "      border: none;\n",
              "      border-radius: 50%;\n",
              "      cursor: pointer;\n",
              "      display: none;\n",
              "      fill: #1967D2;\n",
              "      height: 32px;\n",
              "      padding: 0 0 0 0;\n",
              "      width: 32px;\n",
              "    }\n",
              "\n",
              "    .colab-df-convert:hover {\n",
              "      background-color: #E2EBFA;\n",
              "      box-shadow: 0px 1px 2px rgba(60, 64, 67, 0.3), 0px 1px 3px 1px rgba(60, 64, 67, 0.15);\n",
              "      fill: #174EA6;\n",
              "    }\n",
              "\n",
              "    [theme=dark] .colab-df-convert {\n",
              "      background-color: #3B4455;\n",
              "      fill: #D2E3FC;\n",
              "    }\n",
              "\n",
              "    [theme=dark] .colab-df-convert:hover {\n",
              "      background-color: #434B5C;\n",
              "      box-shadow: 0px 1px 3px 1px rgba(0, 0, 0, 0.15);\n",
              "      filter: drop-shadow(0px 1px 2px rgba(0, 0, 0, 0.3));\n",
              "      fill: #FFFFFF;\n",
              "    }\n",
              "  </style>\n",
              "\n",
              "      <script>\n",
              "        const buttonEl =\n",
              "          document.querySelector('#df-2f242549-c822-42e2-9103-f23c02043b91 button.colab-df-convert');\n",
              "        buttonEl.style.display =\n",
              "          google.colab.kernel.accessAllowed ? 'block' : 'none';\n",
              "\n",
              "        async function convertToInteractive(key) {\n",
              "          const element = document.querySelector('#df-2f242549-c822-42e2-9103-f23c02043b91');\n",
              "          const dataTable =\n",
              "            await google.colab.kernel.invokeFunction('convertToInteractive',\n",
              "                                                     [key], {});\n",
              "          if (!dataTable) return;\n",
              "\n",
              "          const docLinkHtml = 'Like what you see? Visit the ' +\n",
              "            '<a target=\"_blank\" href=https://colab.research.google.com/notebooks/data_table.ipynb>data table notebook</a>'\n",
              "            + ' to learn more about interactive tables.';\n",
              "          element.innerHTML = '';\n",
              "          dataTable['output_type'] = 'display_data';\n",
              "          await google.colab.output.renderOutput(dataTable, element);\n",
              "          const docLink = document.createElement('div');\n",
              "          docLink.innerHTML = docLinkHtml;\n",
              "          element.appendChild(docLink);\n",
              "        }\n",
              "      </script>\n",
              "    </div>\n",
              "  </div>\n",
              "  "
            ]
          },
          "metadata": {},
          "execution_count": 61
        }
      ]
    },
    {
      "cell_type": "code",
      "source": [
        "sentimento = []"
      ],
      "metadata": {
        "id": "vsRvOalefeB2"
      },
      "execution_count": 62,
      "outputs": []
    },
    {
      "cell_type": "code",
      "source": [
        "for i in dataframe_sentimento['Composicao']:\n",
        "    if i>= 0.05:\n",
        "        sentimento.append('Positivo')\n",
        "    elif i <= (-0.05):\n",
        "        sentimento.append('Negativo')\n",
        "    else:\n",
        "        sentimento.append('Neutro')\n"
      ],
      "metadata": {
        "id": "fvcLdOJ7enSP"
      },
      "execution_count": 63,
      "outputs": []
    },
    {
      "cell_type": "code",
      "source": [
        "sentimento"
      ],
      "metadata": {
        "id": "JIJ_iOF5gCLD",
        "colab": {
          "base_uri": "https://localhost:8080/"
        },
        "outputId": "f3d073a2-9138-46c5-d222-ea286c097628"
      },
      "execution_count": 64,
      "outputs": [
        {
          "output_type": "execute_result",
          "data": {
            "text/plain": [
              "['Neutro',\n",
              " 'Negativo',\n",
              " 'Negativo',\n",
              " 'Negativo',\n",
              " 'Neutro',\n",
              " 'Neutro',\n",
              " 'Negativo',\n",
              " 'Neutro',\n",
              " 'Neutro',\n",
              " 'Neutro',\n",
              " 'Neutro',\n",
              " 'Neutro',\n",
              " 'Negativo',\n",
              " 'Neutro',\n",
              " 'Neutro',\n",
              " 'Neutro',\n",
              " 'Neutro',\n",
              " 'Neutro',\n",
              " 'Neutro',\n",
              " 'Neutro',\n",
              " 'Neutro',\n",
              " 'Neutro',\n",
              " 'Neutro',\n",
              " 'Neutro',\n",
              " 'Neutro',\n",
              " 'Neutro',\n",
              " 'Neutro',\n",
              " 'Neutro',\n",
              " 'Neutro',\n",
              " 'Neutro',\n",
              " 'Neutro',\n",
              " 'Neutro',\n",
              " 'Neutro',\n",
              " 'Neutro',\n",
              " 'Neutro',\n",
              " 'Neutro',\n",
              " 'Neutro',\n",
              " 'Neutro',\n",
              " 'Neutro',\n",
              " 'Neutro',\n",
              " 'Neutro',\n",
              " 'Neutro',\n",
              " 'Negativo',\n",
              " 'Neutro',\n",
              " 'Neutro',\n",
              " 'Neutro',\n",
              " 'Neutro',\n",
              " 'Negativo',\n",
              " 'Neutro',\n",
              " 'Neutro',\n",
              " 'Neutro',\n",
              " 'Negativo',\n",
              " 'Neutro',\n",
              " 'Neutro',\n",
              " 'Negativo',\n",
              " 'Neutro',\n",
              " 'Neutro',\n",
              " 'Neutro',\n",
              " 'Neutro',\n",
              " 'Neutro',\n",
              " 'Negativo',\n",
              " 'Neutro',\n",
              " 'Negativo',\n",
              " 'Neutro',\n",
              " 'Neutro',\n",
              " 'Neutro',\n",
              " 'Negativo',\n",
              " 'Positivo',\n",
              " 'Neutro',\n",
              " 'Neutro',\n",
              " 'Neutro',\n",
              " 'Neutro',\n",
              " 'Neutro',\n",
              " 'Negativo',\n",
              " 'Negativo',\n",
              " 'Neutro',\n",
              " 'Neutro',\n",
              " 'Neutro',\n",
              " 'Neutro',\n",
              " 'Neutro',\n",
              " 'Neutro',\n",
              " 'Neutro',\n",
              " 'Neutro',\n",
              " 'Positivo',\n",
              " 'Neutro',\n",
              " 'Neutro',\n",
              " 'Neutro',\n",
              " 'Neutro',\n",
              " 'Negativo',\n",
              " 'Neutro',\n",
              " 'Negativo',\n",
              " 'Neutro',\n",
              " 'Positivo',\n",
              " 'Neutro',\n",
              " 'Neutro',\n",
              " 'Negativo',\n",
              " 'Neutro',\n",
              " 'Neutro',\n",
              " 'Neutro',\n",
              " 'Negativo',\n",
              " 'Neutro',\n",
              " 'Neutro',\n",
              " 'Neutro',\n",
              " 'Neutro',\n",
              " 'Neutro',\n",
              " 'Negativo',\n",
              " 'Neutro',\n",
              " 'Positivo',\n",
              " 'Neutro',\n",
              " 'Positivo',\n",
              " 'Neutro',\n",
              " 'Neutro',\n",
              " 'Neutro',\n",
              " 'Negativo',\n",
              " 'Negativo',\n",
              " 'Neutro',\n",
              " 'Neutro',\n",
              " 'Negativo',\n",
              " 'Neutro',\n",
              " 'Neutro',\n",
              " 'Negativo',\n",
              " 'Neutro',\n",
              " 'Positivo',\n",
              " 'Neutro',\n",
              " 'Neutro',\n",
              " 'Negativo',\n",
              " 'Negativo',\n",
              " 'Neutro',\n",
              " 'Neutro',\n",
              " 'Negativo',\n",
              " 'Positivo',\n",
              " 'Positivo',\n",
              " 'Neutro',\n",
              " 'Neutro',\n",
              " 'Neutro',\n",
              " 'Neutro',\n",
              " 'Neutro',\n",
              " 'Neutro',\n",
              " 'Neutro',\n",
              " 'Neutro',\n",
              " 'Neutro',\n",
              " 'Negativo',\n",
              " 'Neutro',\n",
              " 'Neutro',\n",
              " 'Neutro',\n",
              " 'Negativo',\n",
              " 'Negativo',\n",
              " 'Neutro',\n",
              " 'Neutro',\n",
              " 'Negativo',\n",
              " 'Neutro',\n",
              " 'Neutro',\n",
              " 'Negativo']"
            ]
          },
          "metadata": {},
          "execution_count": 64
        }
      ]
    },
    {
      "cell_type": "code",
      "source": [
        "dataframe_sentimento['Sentimento_Final'] = sentimento"
      ],
      "metadata": {
        "id": "SokKJdvmgDH4"
      },
      "execution_count": 65,
      "outputs": []
    },
    {
      "cell_type": "code",
      "source": [
        "dataframe_sentimento.head()"
      ],
      "metadata": {
        "colab": {
          "base_uri": "https://localhost:8080/",
          "height": 548
        },
        "id": "xUdqVBVogMye",
        "outputId": "bdf140c7-ba80-4858-807a-c714fbcc581f"
      },
      "execution_count": 66,
      "outputs": [
        {
          "output_type": "execute_result",
          "data": {
            "text/plain": [
              "                   Data_Hora              idTweet  \\\n",
              "0  2022-07-30 23:22:03+00:00  1553521334897999874   \n",
              "1  2022-07-30 23:22:03+00:00  1553521332272480256   \n",
              "2  2022-07-30 23:22:03+00:00  1553521331417006080   \n",
              "3  2022-07-30 23:22:02+00:00  1553521329709645824   \n",
              "4  2022-07-30 23:22:02+00:00  1553521328556101632   \n",
              "\n",
              "                                               Tweet Candidato  \\\n",
              "0  @LulaOficial A TODOS OS DEMOCRATAS: ASSINEM!!!...      Lula   \n",
              "1  @angelobiazus1 @SilvioN34576400 @reinaldoazeve...      Lula   \n",
              "2  @PaolaSDaniel TADINHA DA PAOLA, DODOIZINHA DA ...      Lula   \n",
              "3  @LulaOficial Quando a petezada perceber, tu tá...      Lula   \n",
              "4  @JoaoMeiraNeto63 @reinaldoazevedo Bora saudar ...      Lula   \n",
              "\n",
              "                                         Tweet_limpo  \\\n",
              "0   a todos os democratas: assinem!!! carta às br...   \n",
              "1     pô mané... passa esse atestado não. tivemos...   \n",
              "2   tadinha da paola, dodoizinha da cabeça.lula e...   \n",
              "3              quando a petezada perceber, tu tá fu.   \n",
              "4    bora saudar a mandioca e os meninos do lula ...   \n",
              "\n",
              "                                          Sentimento  Positivo  Negativo  \\\n",
              "0  {'neg': 0.0, 'neu': 1.0, 'pos': 0.0, 'compound...       0.0     0.000   \n",
              "1  {'neg': 0.14, 'neu': 0.86, 'pos': 0.0, 'compou...       0.0     0.140   \n",
              "2  {'neg': 0.155, 'neu': 0.845, 'pos': 0.0, 'comp...       0.0     0.155   \n",
              "3  {'neg': 0.439, 'neu': 0.561, 'pos': 0.0, 'comp...       0.0     0.439   \n",
              "4  {'neg': 0.0, 'neu': 1.0, 'pos': 0.0, 'compound...       0.0     0.000   \n",
              "\n",
              "   Neutro  Composicao Sentimento_Final  \n",
              "0   1.000      0.0000           Neutro  \n",
              "1   0.860     -0.5267         Negativo  \n",
              "2   0.845     -0.2960         Negativo  \n",
              "3   0.561     -0.6908         Negativo  \n",
              "4   1.000      0.0000           Neutro  "
            ],
            "text/html": [
              "\n",
              "  <div id=\"df-a369c70e-0595-41c3-9553-9247913f7fe8\">\n",
              "    <div class=\"colab-df-container\">\n",
              "      <div>\n",
              "<style scoped>\n",
              "    .dataframe tbody tr th:only-of-type {\n",
              "        vertical-align: middle;\n",
              "    }\n",
              "\n",
              "    .dataframe tbody tr th {\n",
              "        vertical-align: top;\n",
              "    }\n",
              "\n",
              "    .dataframe thead th {\n",
              "        text-align: right;\n",
              "    }\n",
              "</style>\n",
              "<table border=\"1\" class=\"dataframe\">\n",
              "  <thead>\n",
              "    <tr style=\"text-align: right;\">\n",
              "      <th></th>\n",
              "      <th>Data_Hora</th>\n",
              "      <th>idTweet</th>\n",
              "      <th>Tweet</th>\n",
              "      <th>Candidato</th>\n",
              "      <th>Tweet_limpo</th>\n",
              "      <th>Sentimento</th>\n",
              "      <th>Positivo</th>\n",
              "      <th>Negativo</th>\n",
              "      <th>Neutro</th>\n",
              "      <th>Composicao</th>\n",
              "      <th>Sentimento_Final</th>\n",
              "    </tr>\n",
              "  </thead>\n",
              "  <tbody>\n",
              "    <tr>\n",
              "      <th>0</th>\n",
              "      <td>2022-07-30 23:22:03+00:00</td>\n",
              "      <td>1553521334897999874</td>\n",
              "      <td>@LulaOficial A TODOS OS DEMOCRATAS: ASSINEM!!!...</td>\n",
              "      <td>Lula</td>\n",
              "      <td>a todos os democratas: assinem!!! carta às br...</td>\n",
              "      <td>{'neg': 0.0, 'neu': 1.0, 'pos': 0.0, 'compound...</td>\n",
              "      <td>0.0</td>\n",
              "      <td>0.000</td>\n",
              "      <td>1.000</td>\n",
              "      <td>0.0000</td>\n",
              "      <td>Neutro</td>\n",
              "    </tr>\n",
              "    <tr>\n",
              "      <th>1</th>\n",
              "      <td>2022-07-30 23:22:03+00:00</td>\n",
              "      <td>1553521332272480256</td>\n",
              "      <td>@angelobiazus1 @SilvioN34576400 @reinaldoazeve...</td>\n",
              "      <td>Lula</td>\n",
              "      <td>pô mané... passa esse atestado não. tivemos...</td>\n",
              "      <td>{'neg': 0.14, 'neu': 0.86, 'pos': 0.0, 'compou...</td>\n",
              "      <td>0.0</td>\n",
              "      <td>0.140</td>\n",
              "      <td>0.860</td>\n",
              "      <td>-0.5267</td>\n",
              "      <td>Negativo</td>\n",
              "    </tr>\n",
              "    <tr>\n",
              "      <th>2</th>\n",
              "      <td>2022-07-30 23:22:03+00:00</td>\n",
              "      <td>1553521331417006080</td>\n",
              "      <td>@PaolaSDaniel TADINHA DA PAOLA, DODOIZINHA DA ...</td>\n",
              "      <td>Lula</td>\n",
              "      <td>tadinha da paola, dodoizinha da cabeça.lula e...</td>\n",
              "      <td>{'neg': 0.155, 'neu': 0.845, 'pos': 0.0, 'comp...</td>\n",
              "      <td>0.0</td>\n",
              "      <td>0.155</td>\n",
              "      <td>0.845</td>\n",
              "      <td>-0.2960</td>\n",
              "      <td>Negativo</td>\n",
              "    </tr>\n",
              "    <tr>\n",
              "      <th>3</th>\n",
              "      <td>2022-07-30 23:22:02+00:00</td>\n",
              "      <td>1553521329709645824</td>\n",
              "      <td>@LulaOficial Quando a petezada perceber, tu tá...</td>\n",
              "      <td>Lula</td>\n",
              "      <td>quando a petezada perceber, tu tá fu.</td>\n",
              "      <td>{'neg': 0.439, 'neu': 0.561, 'pos': 0.0, 'comp...</td>\n",
              "      <td>0.0</td>\n",
              "      <td>0.439</td>\n",
              "      <td>0.561</td>\n",
              "      <td>-0.6908</td>\n",
              "      <td>Negativo</td>\n",
              "    </tr>\n",
              "    <tr>\n",
              "      <th>4</th>\n",
              "      <td>2022-07-30 23:22:02+00:00</td>\n",
              "      <td>1553521328556101632</td>\n",
              "      <td>@JoaoMeiraNeto63 @reinaldoazevedo Bora saudar ...</td>\n",
              "      <td>Lula</td>\n",
              "      <td>bora saudar a mandioca e os meninos do lula ...</td>\n",
              "      <td>{'neg': 0.0, 'neu': 1.0, 'pos': 0.0, 'compound...</td>\n",
              "      <td>0.0</td>\n",
              "      <td>0.000</td>\n",
              "      <td>1.000</td>\n",
              "      <td>0.0000</td>\n",
              "      <td>Neutro</td>\n",
              "    </tr>\n",
              "  </tbody>\n",
              "</table>\n",
              "</div>\n",
              "      <button class=\"colab-df-convert\" onclick=\"convertToInteractive('df-a369c70e-0595-41c3-9553-9247913f7fe8')\"\n",
              "              title=\"Convert this dataframe to an interactive table.\"\n",
              "              style=\"display:none;\">\n",
              "        \n",
              "  <svg xmlns=\"http://www.w3.org/2000/svg\" height=\"24px\"viewBox=\"0 0 24 24\"\n",
              "       width=\"24px\">\n",
              "    <path d=\"M0 0h24v24H0V0z\" fill=\"none\"/>\n",
              "    <path d=\"M18.56 5.44l.94 2.06.94-2.06 2.06-.94-2.06-.94-.94-2.06-.94 2.06-2.06.94zm-11 1L8.5 8.5l.94-2.06 2.06-.94-2.06-.94L8.5 2.5l-.94 2.06-2.06.94zm10 10l.94 2.06.94-2.06 2.06-.94-2.06-.94-.94-2.06-.94 2.06-2.06.94z\"/><path d=\"M17.41 7.96l-1.37-1.37c-.4-.4-.92-.59-1.43-.59-.52 0-1.04.2-1.43.59L10.3 9.45l-7.72 7.72c-.78.78-.78 2.05 0 2.83L4 21.41c.39.39.9.59 1.41.59.51 0 1.02-.2 1.41-.59l7.78-7.78 2.81-2.81c.8-.78.8-2.07 0-2.86zM5.41 20L4 18.59l7.72-7.72 1.47 1.35L5.41 20z\"/>\n",
              "  </svg>\n",
              "      </button>\n",
              "      \n",
              "  <style>\n",
              "    .colab-df-container {\n",
              "      display:flex;\n",
              "      flex-wrap:wrap;\n",
              "      gap: 12px;\n",
              "    }\n",
              "\n",
              "    .colab-df-convert {\n",
              "      background-color: #E8F0FE;\n",
              "      border: none;\n",
              "      border-radius: 50%;\n",
              "      cursor: pointer;\n",
              "      display: none;\n",
              "      fill: #1967D2;\n",
              "      height: 32px;\n",
              "      padding: 0 0 0 0;\n",
              "      width: 32px;\n",
              "    }\n",
              "\n",
              "    .colab-df-convert:hover {\n",
              "      background-color: #E2EBFA;\n",
              "      box-shadow: 0px 1px 2px rgba(60, 64, 67, 0.3), 0px 1px 3px 1px rgba(60, 64, 67, 0.15);\n",
              "      fill: #174EA6;\n",
              "    }\n",
              "\n",
              "    [theme=dark] .colab-df-convert {\n",
              "      background-color: #3B4455;\n",
              "      fill: #D2E3FC;\n",
              "    }\n",
              "\n",
              "    [theme=dark] .colab-df-convert:hover {\n",
              "      background-color: #434B5C;\n",
              "      box-shadow: 0px 1px 3px 1px rgba(0, 0, 0, 0.15);\n",
              "      filter: drop-shadow(0px 1px 2px rgba(0, 0, 0, 0.3));\n",
              "      fill: #FFFFFF;\n",
              "    }\n",
              "  </style>\n",
              "\n",
              "      <script>\n",
              "        const buttonEl =\n",
              "          document.querySelector('#df-a369c70e-0595-41c3-9553-9247913f7fe8 button.colab-df-convert');\n",
              "        buttonEl.style.display =\n",
              "          google.colab.kernel.accessAllowed ? 'block' : 'none';\n",
              "\n",
              "        async function convertToInteractive(key) {\n",
              "          const element = document.querySelector('#df-a369c70e-0595-41c3-9553-9247913f7fe8');\n",
              "          const dataTable =\n",
              "            await google.colab.kernel.invokeFunction('convertToInteractive',\n",
              "                                                     [key], {});\n",
              "          if (!dataTable) return;\n",
              "\n",
              "          const docLinkHtml = 'Like what you see? Visit the ' +\n",
              "            '<a target=\"_blank\" href=https://colab.research.google.com/notebooks/data_table.ipynb>data table notebook</a>'\n",
              "            + ' to learn more about interactive tables.';\n",
              "          element.innerHTML = '';\n",
              "          dataTable['output_type'] = 'display_data';\n",
              "          await google.colab.output.renderOutput(dataTable, element);\n",
              "          const docLink = document.createElement('div');\n",
              "          docLink.innerHTML = docLinkHtml;\n",
              "          element.appendChild(docLink);\n",
              "        }\n",
              "      </script>\n",
              "    </div>\n",
              "  </div>\n",
              "  "
            ]
          },
          "metadata": {},
          "execution_count": 66
        }
      ]
    },
    {
      "cell_type": "code",
      "source": [
        "dataframe_final = dataframe_sentimento[['Data_Hora', 'idTweet', 'Tweet', 'Candidato', 'Tweet_limpo', 'Sentimento_Final']]"
      ],
      "metadata": {
        "id": "99M6AU4gi-y9"
      },
      "execution_count": 72,
      "outputs": []
    },
    {
      "cell_type": "code",
      "source": [
        "dataframe_sentimento['Sentimento_Final'].value_counts()"
      ],
      "metadata": {
        "colab": {
          "base_uri": "https://localhost:8080/"
        },
        "id": "9pa13b9-gPzm",
        "outputId": "7a07ac8e-9746-40c8-84bd-1ca781221292"
      },
      "execution_count": 67,
      "outputs": [
        {
          "output_type": "execute_result",
          "data": {
            "text/plain": [
              "Neutro      114\n",
              "Negativo     31\n",
              "Positivo      8\n",
              "Name: Sentimento_Final, dtype: int64"
            ]
          },
          "metadata": {},
          "execution_count": 67
        }
      ]
    },
    {
      "cell_type": "code",
      "source": [
        "plt.figure(figsize=(20, 5))\n",
        "sns.countplot(y=\"Sentimento_Final\", data=dataframe_sentimento)"
      ],
      "metadata": {
        "colab": {
          "base_uri": "https://localhost:8080/",
          "height": 293
        },
        "id": "IM9vQl0Pgmq1",
        "outputId": "150ffe38-aa30-40f4-eb8f-2f51352d413f"
      },
      "execution_count": 68,
      "outputs": [
        {
          "output_type": "execute_result",
          "data": {
            "text/plain": [
              "<matplotlib.axes._subplots.AxesSubplot at 0x7f0c906e0090>"
            ]
          },
          "metadata": {},
          "execution_count": 68
        },
        {
          "output_type": "display_data",
          "data": {
            "text/plain": [
              "<Figure size 1440x360 with 1 Axes>"
            ],
            "image/png": "[encoded data removed]"
          },
          "metadata": {
            "needs_background": "light"
          }
        }
      ]
    },
    {
      "cell_type": "code",
      "source": [
        "resultado_filtro_lula = dataframe_sentimento[dataframe_sentimento['Candidato'] == 'Lula']\n"
      ],
      "metadata": {
        "id": "XFAdDWNOhJpz"
      },
      "execution_count": 69,
      "outputs": []
    },
    {
      "cell_type": "code",
      "source": [
        "resultado_filtro_bolsonaro = dataframe_sentimento[dataframe_sentimento['Candidato'] == 'Bolsonaro']"
      ],
      "metadata": {
        "id": "EDrW1vK6h6Al"
      },
      "execution_count": 70,
      "outputs": []
    },
    {
      "cell_type": "code",
      "source": [
        "resultado_filtro_ciro = dataframe_sentimento[dataframe_sentimento['Candidato'] == 'Ciro']"
      ],
      "metadata": {
        "id": "CketHkKZh9q-"
      },
      "execution_count": 71,
      "outputs": []
    },
    {
      "cell_type": "code",
      "source": [
        "dataframe_final.to_csv('dataframe_final.csv', sep=',', index=False)"
      ],
      "metadata": {
        "id": "ZU4GI20Bivi2"
      },
      "execution_count": 73,
      "outputs": []
    }
  ]
}
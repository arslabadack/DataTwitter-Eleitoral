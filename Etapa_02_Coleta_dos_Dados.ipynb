{
  "nbformat": 4,
  "nbformat_minor": 0,
  "metadata": {
    "colab": {
      "name": "Etapa 02: Coleta dos Dados.ipynb",
      "provenance": [],
      "authorship_tag": "ABX9TyNemwgnYIYfCSBnKQ7VwGpQ",
      "include_colab_link": true
    },
    "kernelspec": {
      "name": "python3",
      "display_name": "Python 3"
    },
    "language_info": {
      "name": "python"
    }
  },
  "cells": [
    {
      "cell_type": "markdown",
      "metadata": {
        "id": "view-in-github",
        "colab_type": "text"
      },
      "source": [
        "<a href=\"https://colab.research.google.com/github/arslabadack/DataTwitter-Eleitoral/blob/main/Etapa_02_Coleta_dos_Dados.ipynb\" target=\"_parent\"><img src=\"https://colab.research.google.com/assets/colab-badge.svg\" alt=\"Open In Colab\"/></a>"
      ]
    },
    {
      "cell_type": "markdown",
      "source": [
        "#Apresentação do projeto\n",
        "\n"
      ],
      "metadata": {
        "id": "PGuU4wQiQEO7"
      }
    },
    {
      "cell_type": "code",
      "execution_count": null,
      "metadata": {
        "colab": {
          "base_uri": "https://localhost:8080/"
        },
        "id": "0hH5-2jnOkzB",
        "outputId": "6b2741ff-f4f1-44c9-f004-a4fe848ab74d"
      },
      "outputs": [
        {
          "output_type": "stream",
          "name": "stdout",
          "text": [
            "Hello World\n"
          ]
        }
      ],
      "source": [
        "print(\"Hello World\")"
      ]
    },
    {
      "cell_type": "code",
      "source": [
        ""
      ],
      "metadata": {
        "id": "feYg3a9gPxSx"
      },
      "execution_count": null,
      "outputs": []
    }
  ]
}